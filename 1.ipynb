{
 "cells": [
  {
   "cell_type": "code",
   "execution_count": 1,
   "id": "3b9bab91",
   "metadata": {},
   "outputs": [
    {
     "ename": "NoSuchWindowException",
     "evalue": "Message: no such window: target window already closed\nfrom unknown error: web view not found\n  (Session info: chrome=137.0.7151.119)\nStacktrace:\n\tGetHandleVerifier [0x0xa03b03+62899]\n\tGetHandleVerifier [0x0xa03b44+62964]\n\t(No symbol) [0x0x8310f3]\n\t(No symbol) [0x0x80ff59]\n\t(No symbol) [0x0x8a4f7e]\n\t(No symbol) [0x0x8bf6a9]\n\t(No symbol) [0x0x89e306]\n\t(No symbol) [0x0x86d670]\n\t(No symbol) [0x0x86e4e4]\n\tGetHandleVerifier [0x0xc64793+2556483]\n\tGetHandleVerifier [0x0xc5fd02+2537394]\n\tGetHandleVerifier [0x0xa2a2fa+220586]\n\tGetHandleVerifier [0x0xa1aae8+157080]\n\tGetHandleVerifier [0x0xa2141d+184013]\n\tGetHandleVerifier [0x0xa0ba68+95512]\n\tGetHandleVerifier [0x0xa0bc10+95936]\n\tGetHandleVerifier [0x0x9f6b5a+9738]\n\tBaseThreadInitThunk [0x0x76dc5d49+25]\n\tRtlInitializeExceptionChain [0x0x77b3d09b+107]\n\tRtlGetAppContainerNamedObjectPath [0x0x77b3d021+561]\n",
     "output_type": "error",
     "traceback": [
      "\u001b[1;31m---------------------------------------------------------------------------\u001b[0m",
      "\u001b[1;31mNoSuchWindowException\u001b[0m                     Traceback (most recent call last)",
      "Cell \u001b[1;32mIn[1], line 22\u001b[0m\n\u001b[0;32m     19\u001b[0m time\u001b[38;5;241m.\u001b[39msleep(\u001b[38;5;241m8\u001b[39m)\n\u001b[0;32m     21\u001b[0m \u001b[38;5;66;03m# Step 3: Scroll to mimic human behavior\u001b[39;00m\n\u001b[1;32m---> 22\u001b[0m \u001b[43mdriver\u001b[49m\u001b[38;5;241;43m.\u001b[39;49m\u001b[43mexecute_script\u001b[49m\u001b[43m(\u001b[49m\u001b[38;5;124;43m\"\u001b[39;49m\u001b[38;5;124;43mwindow.scrollTo(0, document.body.scrollHeight/2);\u001b[39;49m\u001b[38;5;124;43m\"\u001b[39;49m\u001b[43m)\u001b[49m\n\u001b[0;32m     23\u001b[0m time\u001b[38;5;241m.\u001b[39msleep(\u001b[38;5;241m3\u001b[39m)\n\u001b[0;32m     24\u001b[0m driver\u001b[38;5;241m.\u001b[39mexecute_script(\u001b[38;5;124m\"\u001b[39m\u001b[38;5;124mwindow.scrollTo(0, document.body.scrollHeight);\u001b[39m\u001b[38;5;124m\"\u001b[39m)\n",
      "File \u001b[1;32me:\\web scrapper\\venv\\lib\\site-packages\\selenium\\webdriver\\remote\\webdriver.py:544\u001b[0m, in \u001b[0;36mWebDriver.execute_script\u001b[1;34m(self, script, *args)\u001b[0m\n\u001b[0;32m    541\u001b[0m converted_args \u001b[38;5;241m=\u001b[39m \u001b[38;5;28mlist\u001b[39m(args)\n\u001b[0;32m    542\u001b[0m command \u001b[38;5;241m=\u001b[39m Command\u001b[38;5;241m.\u001b[39mW3C_EXECUTE_SCRIPT\n\u001b[1;32m--> 544\u001b[0m \u001b[38;5;28;01mreturn\u001b[39;00m \u001b[38;5;28;43mself\u001b[39;49m\u001b[38;5;241;43m.\u001b[39;49m\u001b[43mexecute\u001b[49m\u001b[43m(\u001b[49m\u001b[43mcommand\u001b[49m\u001b[43m,\u001b[49m\u001b[43m \u001b[49m\u001b[43m{\u001b[49m\u001b[38;5;124;43m\"\u001b[39;49m\u001b[38;5;124;43mscript\u001b[39;49m\u001b[38;5;124;43m\"\u001b[39;49m\u001b[43m:\u001b[49m\u001b[43m \u001b[49m\u001b[43mscript\u001b[49m\u001b[43m,\u001b[49m\u001b[43m \u001b[49m\u001b[38;5;124;43m\"\u001b[39;49m\u001b[38;5;124;43margs\u001b[39;49m\u001b[38;5;124;43m\"\u001b[39;49m\u001b[43m:\u001b[49m\u001b[43m \u001b[49m\u001b[43mconverted_args\u001b[49m\u001b[43m}\u001b[49m\u001b[43m)\u001b[49m[\u001b[38;5;124m\"\u001b[39m\u001b[38;5;124mvalue\u001b[39m\u001b[38;5;124m\"\u001b[39m]\n",
      "File \u001b[1;32me:\\web scrapper\\venv\\lib\\site-packages\\selenium\\webdriver\\remote\\webdriver.py:447\u001b[0m, in \u001b[0;36mWebDriver.execute\u001b[1;34m(self, driver_command, params)\u001b[0m\n\u001b[0;32m    445\u001b[0m response \u001b[38;5;241m=\u001b[39m \u001b[38;5;28mself\u001b[39m\u001b[38;5;241m.\u001b[39mcommand_executor\u001b[38;5;241m.\u001b[39mexecute(driver_command, params)\n\u001b[0;32m    446\u001b[0m \u001b[38;5;28;01mif\u001b[39;00m response:\n\u001b[1;32m--> 447\u001b[0m     \u001b[38;5;28;43mself\u001b[39;49m\u001b[38;5;241;43m.\u001b[39;49m\u001b[43merror_handler\u001b[49m\u001b[38;5;241;43m.\u001b[39;49m\u001b[43mcheck_response\u001b[49m\u001b[43m(\u001b[49m\u001b[43mresponse\u001b[49m\u001b[43m)\u001b[49m\n\u001b[0;32m    448\u001b[0m     response[\u001b[38;5;124m\"\u001b[39m\u001b[38;5;124mvalue\u001b[39m\u001b[38;5;124m\"\u001b[39m] \u001b[38;5;241m=\u001b[39m \u001b[38;5;28mself\u001b[39m\u001b[38;5;241m.\u001b[39m_unwrap_value(response\u001b[38;5;241m.\u001b[39mget(\u001b[38;5;124m\"\u001b[39m\u001b[38;5;124mvalue\u001b[39m\u001b[38;5;124m\"\u001b[39m, \u001b[38;5;28;01mNone\u001b[39;00m))\n\u001b[0;32m    449\u001b[0m     \u001b[38;5;28;01mreturn\u001b[39;00m response\n",
      "File \u001b[1;32me:\\web scrapper\\venv\\lib\\site-packages\\selenium\\webdriver\\remote\\errorhandler.py:232\u001b[0m, in \u001b[0;36mErrorHandler.check_response\u001b[1;34m(self, response)\u001b[0m\n\u001b[0;32m    230\u001b[0m         alert_text \u001b[38;5;241m=\u001b[39m value[\u001b[38;5;124m\"\u001b[39m\u001b[38;5;124malert\u001b[39m\u001b[38;5;124m\"\u001b[39m]\u001b[38;5;241m.\u001b[39mget(\u001b[38;5;124m\"\u001b[39m\u001b[38;5;124mtext\u001b[39m\u001b[38;5;124m\"\u001b[39m)\n\u001b[0;32m    231\u001b[0m     \u001b[38;5;28;01mraise\u001b[39;00m exception_class(message, screen, stacktrace, alert_text)  \u001b[38;5;66;03m# type: ignore[call-arg]  # mypy is not smart enough here\u001b[39;00m\n\u001b[1;32m--> 232\u001b[0m \u001b[38;5;28;01mraise\u001b[39;00m exception_class(message, screen, stacktrace)\n",
      "\u001b[1;31mNoSuchWindowException\u001b[0m: Message: no such window: target window already closed\nfrom unknown error: web view not found\n  (Session info: chrome=137.0.7151.119)\nStacktrace:\n\tGetHandleVerifier [0x0xa03b03+62899]\n\tGetHandleVerifier [0x0xa03b44+62964]\n\t(No symbol) [0x0x8310f3]\n\t(No symbol) [0x0x80ff59]\n\t(No symbol) [0x0x8a4f7e]\n\t(No symbol) [0x0x8bf6a9]\n\t(No symbol) [0x0x89e306]\n\t(No symbol) [0x0x86d670]\n\t(No symbol) [0x0x86e4e4]\n\tGetHandleVerifier [0x0xc64793+2556483]\n\tGetHandleVerifier [0x0xc5fd02+2537394]\n\tGetHandleVerifier [0x0xa2a2fa+220586]\n\tGetHandleVerifier [0x0xa1aae8+157080]\n\tGetHandleVerifier [0x0xa2141d+184013]\n\tGetHandleVerifier [0x0xa0ba68+95512]\n\tGetHandleVerifier [0x0xa0bc10+95936]\n\tGetHandleVerifier [0x0x9f6b5a+9738]\n\tBaseThreadInitThunk [0x0x76dc5d49+25]\n\tRtlInitializeExceptionChain [0x0x77b3d09b+107]\n\tRtlGetAppContainerNamedObjectPath [0x0x77b3d021+561]\n"
     ]
    }
   ],
   "source": [
    "import undetected_chromedriver as uc\n",
    "from selenium.webdriver.common.by import By\n",
    "from selenium.webdriver.common.keys import Keys\n",
    "import time\n",
    "\n",
    "# Start Chrome with evasion + incognito\n",
    "options = uc.ChromeOptions()\n",
    "options.add_argument(\"--start-maximized\")\n",
    "options.add_argument(\"--incognito\")  # <-- this is what adds incognito mode\n",
    "\n",
    "driver = uc.Chrome(options=options, headless=False)\n",
    "\n",
    "# Step 1: Open a neutral site\n",
    "driver.get(\"https://www.google.com\")\n",
    "time.sleep(3)\n",
    "\n",
    "# Step 2: Navigate to Realtor\n",
    "driver.get(\"https://www.realtor.com/\")\n",
    "time.sleep(8)\n",
    "\n",
    "# Step 3: Scroll to mimic human behavior\n",
    "driver.execute_script(\"window.scrollTo(0, document.body.scrollHeight/2);\")\n",
    "time.sleep(3)\n",
    "driver.execute_script(\"window.scrollTo(0, document.body.scrollHeight);\")\n",
    "time.sleep(3)\n",
    "\n",
    "# Step 4: Refresh the page (optional anti-bot trick)\n",
    "driver.refresh()\n",
    "time.sleep(5)\n",
    "\n",
    "# Step 5: Try interacting with an element\n",
    "try:\n",
    "    search_box = driver.find_element(By.NAME, \"q\")\n",
    "    search_box.send_keys(\"New York\", Keys.RETURN)\n",
    "except:\n",
    "    print(\"Could not interact with page element — likely not available\")\n",
    "\n",
    "print(\"Title:\", driver.title)\n",
    "\n",
    "driver.quit()\n"
   ]
  },
  {
   "cell_type": "code",
   "execution_count": 20,
   "id": "0b6a61e1",
   "metadata": {},
   "outputs": [],
   "source": [
    "# Switch back if needed\n",
    "driver.switch_to.window(driver.window_handles[0])\n"
   ]
  },
  {
   "cell_type": "code",
   "execution_count": 34,
   "id": "de76ca9a",
   "metadata": {},
   "outputs": [],
   "source": [
    "driver.quit()"
   ]
  },
  {
   "cell_type": "code",
   "execution_count": 18,
   "id": "d0c5842b",
   "metadata": {},
   "outputs": [],
   "source": [
    "import undetected_chromedriver as uc\n",
    "import time\n",
    "\n",
    "driver = uc.Chrome(headless=False)\n",
    "driver.get(\"https://google.com\")\n",
    "time.sleep(3)\n",
    "\n",
    "driver.get(\"https://realtor.com\")\n",
    "time.sleep(5)\n",
    "driver.refresh()\n"
   ]
  },
  {
   "cell_type": "code",
   "execution_count": 24,
   "id": "75bee48b",
   "metadata": {},
   "outputs": [],
   "source": [
    "cookies=driver.get_cookies()"
   ]
  },
  {
   "cell_type": "code",
   "execution_count": 26,
   "id": "79dbb2f2",
   "metadata": {},
   "outputs": [
    {
     "data": {
      "text/plain": [
       "list"
      ]
     },
     "execution_count": 26,
     "metadata": {},
     "output_type": "execute_result"
    }
   ],
   "source": [
    "type(cookies)"
   ]
  },
  {
   "cell_type": "code",
   "execution_count": 35,
   "id": "71cefb3c",
   "metadata": {},
   "outputs": [
    {
     "ename": "Error",
     "evalue": "It looks like you are using Playwright Sync API inside the asyncio loop.\nPlease use the Async API instead.",
     "output_type": "error",
     "traceback": [
      "\u001b[1;31m---------------------------------------------------------------------------\u001b[0m",
      "\u001b[1;31mError\u001b[0m                                     Traceback (most recent call last)",
      "Cell \u001b[1;32mIn[35], line 3\u001b[0m\n\u001b[0;32m      1\u001b[0m \u001b[38;5;28;01mfrom\u001b[39;00m\u001b[38;5;250m \u001b[39m\u001b[38;5;21;01mplaywright\u001b[39;00m\u001b[38;5;21;01m.\u001b[39;00m\u001b[38;5;21;01msync_api\u001b[39;00m\u001b[38;5;250m \u001b[39m\u001b[38;5;28;01mimport\u001b[39;00m sync_playwright\n\u001b[1;32m----> 3\u001b[0m \u001b[38;5;28;01mwith\u001b[39;00m sync_playwright() \u001b[38;5;28;01mas\u001b[39;00m p:\n\u001b[0;32m      4\u001b[0m     browser \u001b[38;5;241m=\u001b[39m p\u001b[38;5;241m.\u001b[39mchromium\u001b[38;5;241m.\u001b[39mlaunch(headless\u001b[38;5;241m=\u001b[39m\u001b[38;5;28;01mFalse\u001b[39;00m)\n\u001b[0;32m      5\u001b[0m     context \u001b[38;5;241m=\u001b[39m browser\u001b[38;5;241m.\u001b[39mnew_context()\n",
      "File \u001b[1;32me:\\web scrapper\\venv\\lib\\site-packages\\playwright\\sync_api\\_context_manager.py:47\u001b[0m, in \u001b[0;36mPlaywrightContextManager.__enter__\u001b[1;34m(self)\u001b[0m\n\u001b[0;32m     45\u001b[0m             \u001b[38;5;28mself\u001b[39m\u001b[38;5;241m.\u001b[39m_own_loop \u001b[38;5;241m=\u001b[39m \u001b[38;5;28;01mTrue\u001b[39;00m\n\u001b[0;32m     46\u001b[0m         \u001b[38;5;28;01mif\u001b[39;00m \u001b[38;5;28mself\u001b[39m\u001b[38;5;241m.\u001b[39m_loop\u001b[38;5;241m.\u001b[39mis_running():\n\u001b[1;32m---> 47\u001b[0m             \u001b[38;5;28;01mraise\u001b[39;00m Error(\n\u001b[0;32m     48\u001b[0m \u001b[38;5;250m                \u001b[39m\u001b[38;5;124;03m\"\"\"It looks like you are using Playwright Sync API inside the asyncio loop.\u001b[39;00m\n\u001b[0;32m     49\u001b[0m \u001b[38;5;124;03mPlease use the Async API instead.\"\"\"\u001b[39;00m\n\u001b[0;32m     50\u001b[0m             )\n\u001b[0;32m     52\u001b[0m         \u001b[38;5;66;03m# Create a new fiber for the protocol dispatcher. It will be pumping events\u001b[39;00m\n\u001b[0;32m     53\u001b[0m         \u001b[38;5;66;03m# until the end of times. We will pass control to that fiber every time we\u001b[39;00m\n\u001b[0;32m     54\u001b[0m         \u001b[38;5;66;03m# block while waiting for a response.\u001b[39;00m\n\u001b[0;32m     55\u001b[0m         \u001b[38;5;28;01mdef\u001b[39;00m\u001b[38;5;250m \u001b[39m\u001b[38;5;21mgreenlet_main\u001b[39m() \u001b[38;5;241m-\u001b[39m\u001b[38;5;241m>\u001b[39m \u001b[38;5;28;01mNone\u001b[39;00m:\n",
      "\u001b[1;31mError\u001b[0m: It looks like you are using Playwright Sync API inside the asyncio loop.\nPlease use the Async API instead."
     ]
    }
   ],
   "source": [
    "from playwright.sync_api import sync_playwright\n",
    "\n",
    "with sync_playwright() as p:\n",
    "    browser = p.chromium.launch(headless=False)\n",
    "    context = browser.new_context()\n",
    "\n",
    "    page = context.new_page()\n",
    "    page.goto(\"https://www.realtor.com\")\n",
    "\n",
    "    page.wait_for_timeout(8000)\n",
    "    print(\"Title:\", page.title())\n"
   ]
  },
  {
   "cell_type": "code",
   "execution_count": 1,
   "id": "63ff3c15",
   "metadata": {},
   "outputs": [
    {
     "ename": "SessionNotCreatedException",
     "evalue": "Message: session not created: cannot connect to chrome at 127.0.0.1:49894\nfrom chrome not reachable\nStacktrace:\n\tGetHandleVerifier [0x0xd43783+63299]\n\tGetHandleVerifier [0x0xd437c4+63364]\n\t(No symbol) [0x0xb70f70]\n\t(No symbol) [0x0xb64d6b]\n\t(No symbol) [0x0xba9fc6]\n\t(No symbol) [0x0xba053f]\n\t(No symbol) [0x0xba0376]\n\t(No symbol) [0x0xbea3c2]\n\t(No symbol) [0x0xbe9c5a]\n\t(No symbol) [0x0xbde376]\n\t(No symbol) [0x0xbad6e0]\n\t(No symbol) [0x0xbae544]\n\tGetHandleVerifier [0x0xf9e073+2531379]\n\tGetHandleVerifier [0x0xf99372+2511666]\n\tGetHandleVerifier [0x0xd69efa+220858]\n\tGetHandleVerifier [0x0xd5a548+156936]\n\tGetHandleVerifier [0x0xd60c7d+183357]\n\tGetHandleVerifier [0x0xd4b6e8+95912]\n\tGetHandleVerifier [0x0xd4b890+96336]\n\tGetHandleVerifier [0x0xd3666a+9770]\n\tBaseThreadInitThunk [0x0x77245d49+25]\n\tRtlInitializeExceptionChain [0x0x77aed09b+107]\n\tRtlGetAppContainerNamedObjectPath [0x0x77aed021+561]\n",
     "output_type": "error",
     "traceback": [
      "\u001b[1;31m---------------------------------------------------------------------------\u001b[0m",
      "\u001b[1;31mSessionNotCreatedException\u001b[0m                Traceback (most recent call last)",
      "Cell \u001b[1;32mIn[1], line 11\u001b[0m\n\u001b[0;32m      8\u001b[0m options\u001b[38;5;241m.\u001b[39madd_argument(\u001b[38;5;124m\"\u001b[39m\u001b[38;5;124m--start-maximized\u001b[39m\u001b[38;5;124m\"\u001b[39m)\n\u001b[0;32m      9\u001b[0m options\u001b[38;5;241m.\u001b[39madd_argument(\u001b[38;5;124m\"\u001b[39m\u001b[38;5;124m--incognito\u001b[39m\u001b[38;5;124m\"\u001b[39m)  \u001b[38;5;66;03m# <-- this is what adds incognito mode\u001b[39;00m\n\u001b[1;32m---> 11\u001b[0m driver \u001b[38;5;241m=\u001b[39m \u001b[43muc\u001b[49m\u001b[38;5;241;43m.\u001b[39;49m\u001b[43mChrome\u001b[49m\u001b[43m(\u001b[49m\u001b[43moptions\u001b[49m\u001b[38;5;241;43m=\u001b[39;49m\u001b[43moptions\u001b[49m\u001b[43m,\u001b[49m\u001b[43m \u001b[49m\u001b[43mheadless\u001b[49m\u001b[38;5;241;43m=\u001b[39;49m\u001b[38;5;28;43;01mFalse\u001b[39;49;00m\u001b[43m)\u001b[49m\n",
      "File \u001b[1;32me:\\web scrapper\\venv\\lib\\site-packages\\undetected_chromedriver\\__init__.py:466\u001b[0m, in \u001b[0;36mChrome.__init__\u001b[1;34m(self, options, user_data_dir, driver_executable_path, browser_executable_path, port, enable_cdp_events, desired_capabilities, advanced_elements, keep_alive, log_level, headless, version_main, patcher_force_close, suppress_welcome, use_subprocess, debug, no_sandbox, user_multi_procs, **kw)\u001b[0m\n\u001b[0;32m    459\u001b[0m     \u001b[38;5;28mself\u001b[39m\u001b[38;5;241m.\u001b[39mbrowser_pid \u001b[38;5;241m=\u001b[39m browser\u001b[38;5;241m.\u001b[39mpid\n\u001b[0;32m    462\u001b[0m service \u001b[38;5;241m=\u001b[39m selenium\u001b[38;5;241m.\u001b[39mwebdriver\u001b[38;5;241m.\u001b[39mchromium\u001b[38;5;241m.\u001b[39mservice\u001b[38;5;241m.\u001b[39mChromiumService(\n\u001b[0;32m    463\u001b[0m     \u001b[38;5;28mself\u001b[39m\u001b[38;5;241m.\u001b[39mpatcher\u001b[38;5;241m.\u001b[39mexecutable_path\n\u001b[0;32m    464\u001b[0m )\n\u001b[1;32m--> 466\u001b[0m \u001b[38;5;28;43msuper\u001b[39;49m\u001b[43m(\u001b[49m\u001b[43mChrome\u001b[49m\u001b[43m,\u001b[49m\u001b[43m \u001b[49m\u001b[38;5;28;43mself\u001b[39;49m\u001b[43m)\u001b[49m\u001b[38;5;241;43m.\u001b[39;49m\u001b[38;5;21;43m__init__\u001b[39;49m\u001b[43m(\u001b[49m\n\u001b[0;32m    467\u001b[0m \u001b[43m    \u001b[49m\u001b[43mservice\u001b[49m\u001b[38;5;241;43m=\u001b[39;49m\u001b[43mservice\u001b[49m\u001b[43m,\u001b[49m\n\u001b[0;32m    468\u001b[0m \u001b[43m    \u001b[49m\u001b[43moptions\u001b[49m\u001b[38;5;241;43m=\u001b[39;49m\u001b[43moptions\u001b[49m\u001b[43m,\u001b[49m\n\u001b[0;32m    469\u001b[0m \u001b[43m    \u001b[49m\u001b[43mkeep_alive\u001b[49m\u001b[38;5;241;43m=\u001b[39;49m\u001b[43mkeep_alive\u001b[49m\u001b[43m,\u001b[49m\n\u001b[0;32m    470\u001b[0m \u001b[43m\u001b[49m\u001b[43m)\u001b[49m\n\u001b[0;32m    472\u001b[0m \u001b[38;5;28mself\u001b[39m\u001b[38;5;241m.\u001b[39mreactor \u001b[38;5;241m=\u001b[39m \u001b[38;5;28;01mNone\u001b[39;00m\n\u001b[0;32m    474\u001b[0m \u001b[38;5;28;01mif\u001b[39;00m enable_cdp_events:\n",
      "File \u001b[1;32me:\\web scrapper\\venv\\lib\\site-packages\\selenium\\webdriver\\chrome\\webdriver.py:47\u001b[0m, in \u001b[0;36mWebDriver.__init__\u001b[1;34m(self, options, service, keep_alive)\u001b[0m\n\u001b[0;32m     44\u001b[0m service \u001b[38;5;241m=\u001b[39m service \u001b[38;5;28;01mif\u001b[39;00m service \u001b[38;5;28;01melse\u001b[39;00m Service()\n\u001b[0;32m     45\u001b[0m options \u001b[38;5;241m=\u001b[39m options \u001b[38;5;28;01mif\u001b[39;00m options \u001b[38;5;28;01melse\u001b[39;00m Options()\n\u001b[1;32m---> 47\u001b[0m \u001b[38;5;28;43msuper\u001b[39;49m\u001b[43m(\u001b[49m\u001b[43m)\u001b[49m\u001b[38;5;241;43m.\u001b[39;49m\u001b[38;5;21;43m__init__\u001b[39;49m\u001b[43m(\u001b[49m\n\u001b[0;32m     48\u001b[0m \u001b[43m    \u001b[49m\u001b[43mbrowser_name\u001b[49m\u001b[38;5;241;43m=\u001b[39;49m\u001b[43mDesiredCapabilities\u001b[49m\u001b[38;5;241;43m.\u001b[39;49m\u001b[43mCHROME\u001b[49m\u001b[43m[\u001b[49m\u001b[38;5;124;43m\"\u001b[39;49m\u001b[38;5;124;43mbrowserName\u001b[39;49m\u001b[38;5;124;43m\"\u001b[39;49m\u001b[43m]\u001b[49m\u001b[43m,\u001b[49m\n\u001b[0;32m     49\u001b[0m \u001b[43m    \u001b[49m\u001b[43mvendor_prefix\u001b[49m\u001b[38;5;241;43m=\u001b[39;49m\u001b[38;5;124;43m\"\u001b[39;49m\u001b[38;5;124;43mgoog\u001b[39;49m\u001b[38;5;124;43m\"\u001b[39;49m\u001b[43m,\u001b[49m\n\u001b[0;32m     50\u001b[0m \u001b[43m    \u001b[49m\u001b[43moptions\u001b[49m\u001b[38;5;241;43m=\u001b[39;49m\u001b[43moptions\u001b[49m\u001b[43m,\u001b[49m\n\u001b[0;32m     51\u001b[0m \u001b[43m    \u001b[49m\u001b[43mservice\u001b[49m\u001b[38;5;241;43m=\u001b[39;49m\u001b[43mservice\u001b[49m\u001b[43m,\u001b[49m\n\u001b[0;32m     52\u001b[0m \u001b[43m    \u001b[49m\u001b[43mkeep_alive\u001b[49m\u001b[38;5;241;43m=\u001b[39;49m\u001b[43mkeep_alive\u001b[49m\u001b[43m,\u001b[49m\n\u001b[0;32m     53\u001b[0m \u001b[43m\u001b[49m\u001b[43m)\u001b[49m\n",
      "File \u001b[1;32me:\\web scrapper\\venv\\lib\\site-packages\\selenium\\webdriver\\chromium\\webdriver.py:69\u001b[0m, in \u001b[0;36mChromiumDriver.__init__\u001b[1;34m(self, browser_name, vendor_prefix, options, service, keep_alive)\u001b[0m\n\u001b[0;32m     60\u001b[0m executor \u001b[38;5;241m=\u001b[39m ChromiumRemoteConnection(\n\u001b[0;32m     61\u001b[0m     remote_server_addr\u001b[38;5;241m=\u001b[39m\u001b[38;5;28mself\u001b[39m\u001b[38;5;241m.\u001b[39mservice\u001b[38;5;241m.\u001b[39mservice_url,\n\u001b[0;32m     62\u001b[0m     browser_name\u001b[38;5;241m=\u001b[39mbrowser_name,\n\u001b[1;32m   (...)\u001b[0m\n\u001b[0;32m     65\u001b[0m     ignore_proxy\u001b[38;5;241m=\u001b[39moptions\u001b[38;5;241m.\u001b[39m_ignore_local_proxy,\n\u001b[0;32m     66\u001b[0m )\n\u001b[0;32m     68\u001b[0m \u001b[38;5;28;01mtry\u001b[39;00m:\n\u001b[1;32m---> 69\u001b[0m     \u001b[38;5;28;43msuper\u001b[39;49m\u001b[43m(\u001b[49m\u001b[43m)\u001b[49m\u001b[38;5;241;43m.\u001b[39;49m\u001b[38;5;21;43m__init__\u001b[39;49m\u001b[43m(\u001b[49m\u001b[43mcommand_executor\u001b[49m\u001b[38;5;241;43m=\u001b[39;49m\u001b[43mexecutor\u001b[49m\u001b[43m,\u001b[49m\u001b[43m \u001b[49m\u001b[43moptions\u001b[49m\u001b[38;5;241;43m=\u001b[39;49m\u001b[43moptions\u001b[49m\u001b[43m)\u001b[49m\n\u001b[0;32m     70\u001b[0m \u001b[38;5;28;01mexcept\u001b[39;00m \u001b[38;5;167;01mException\u001b[39;00m:\n\u001b[0;32m     71\u001b[0m     \u001b[38;5;28mself\u001b[39m\u001b[38;5;241m.\u001b[39mquit()\n",
      "File \u001b[1;32me:\\web scrapper\\venv\\lib\\site-packages\\selenium\\webdriver\\remote\\webdriver.py:257\u001b[0m, in \u001b[0;36mWebDriver.__init__\u001b[1;34m(self, command_executor, keep_alive, file_detector, options, locator_converter, web_element_cls, client_config)\u001b[0m\n\u001b[0;32m    255\u001b[0m \u001b[38;5;28mself\u001b[39m\u001b[38;5;241m.\u001b[39m_authenticator_id \u001b[38;5;241m=\u001b[39m \u001b[38;5;28;01mNone\u001b[39;00m\n\u001b[0;32m    256\u001b[0m \u001b[38;5;28mself\u001b[39m\u001b[38;5;241m.\u001b[39mstart_client()\n\u001b[1;32m--> 257\u001b[0m \u001b[38;5;28;43mself\u001b[39;49m\u001b[38;5;241;43m.\u001b[39;49m\u001b[43mstart_session\u001b[49m\u001b[43m(\u001b[49m\u001b[43mcapabilities\u001b[49m\u001b[43m)\u001b[49m\n\u001b[0;32m    258\u001b[0m \u001b[38;5;28mself\u001b[39m\u001b[38;5;241m.\u001b[39m_fedcm \u001b[38;5;241m=\u001b[39m FedCM(\u001b[38;5;28mself\u001b[39m)\n\u001b[0;32m    260\u001b[0m \u001b[38;5;28mself\u001b[39m\u001b[38;5;241m.\u001b[39m_websocket_connection \u001b[38;5;241m=\u001b[39m \u001b[38;5;28;01mNone\u001b[39;00m\n",
      "File \u001b[1;32me:\\web scrapper\\venv\\lib\\site-packages\\undetected_chromedriver\\__init__.py:724\u001b[0m, in \u001b[0;36mChrome.start_session\u001b[1;34m(self, capabilities, browser_profile)\u001b[0m\n\u001b[0;32m    722\u001b[0m \u001b[38;5;28;01mif\u001b[39;00m \u001b[38;5;129;01mnot\u001b[39;00m capabilities:\n\u001b[0;32m    723\u001b[0m     capabilities \u001b[38;5;241m=\u001b[39m \u001b[38;5;28mself\u001b[39m\u001b[38;5;241m.\u001b[39moptions\u001b[38;5;241m.\u001b[39mto_capabilities()\n\u001b[1;32m--> 724\u001b[0m \u001b[38;5;28;43msuper\u001b[39;49m\u001b[43m(\u001b[49m\u001b[43mselenium\u001b[49m\u001b[38;5;241;43m.\u001b[39;49m\u001b[43mwebdriver\u001b[49m\u001b[38;5;241;43m.\u001b[39;49m\u001b[43mchrome\u001b[49m\u001b[38;5;241;43m.\u001b[39;49m\u001b[43mwebdriver\u001b[49m\u001b[38;5;241;43m.\u001b[39;49m\u001b[43mWebDriver\u001b[49m\u001b[43m,\u001b[49m\u001b[43m \u001b[49m\u001b[38;5;28;43mself\u001b[39;49m\u001b[43m)\u001b[49m\u001b[38;5;241;43m.\u001b[39;49m\u001b[43mstart_session\u001b[49m\u001b[43m(\u001b[49m\n\u001b[0;32m    725\u001b[0m \u001b[43m    \u001b[49m\u001b[43mcapabilities\u001b[49m\n\u001b[0;32m    726\u001b[0m \u001b[43m\u001b[49m\u001b[43m)\u001b[49m\n",
      "File \u001b[1;32me:\\web scrapper\\venv\\lib\\site-packages\\selenium\\webdriver\\remote\\webdriver.py:356\u001b[0m, in \u001b[0;36mWebDriver.start_session\u001b[1;34m(self, capabilities)\u001b[0m\n\u001b[0;32m    354\u001b[0m caps \u001b[38;5;241m=\u001b[39m _create_caps(capabilities)\n\u001b[0;32m    355\u001b[0m \u001b[38;5;28;01mtry\u001b[39;00m:\n\u001b[1;32m--> 356\u001b[0m     response \u001b[38;5;241m=\u001b[39m \u001b[38;5;28;43mself\u001b[39;49m\u001b[38;5;241;43m.\u001b[39;49m\u001b[43mexecute\u001b[49m\u001b[43m(\u001b[49m\u001b[43mCommand\u001b[49m\u001b[38;5;241;43m.\u001b[39;49m\u001b[43mNEW_SESSION\u001b[49m\u001b[43m,\u001b[49m\u001b[43m \u001b[49m\u001b[43mcaps\u001b[49m\u001b[43m)\u001b[49m[\u001b[38;5;124m\"\u001b[39m\u001b[38;5;124mvalue\u001b[39m\u001b[38;5;124m\"\u001b[39m]\n\u001b[0;32m    357\u001b[0m     \u001b[38;5;28mself\u001b[39m\u001b[38;5;241m.\u001b[39msession_id \u001b[38;5;241m=\u001b[39m response\u001b[38;5;241m.\u001b[39mget(\u001b[38;5;124m\"\u001b[39m\u001b[38;5;124msessionId\u001b[39m\u001b[38;5;124m\"\u001b[39m)\n\u001b[0;32m    358\u001b[0m     \u001b[38;5;28mself\u001b[39m\u001b[38;5;241m.\u001b[39mcaps \u001b[38;5;241m=\u001b[39m response\u001b[38;5;241m.\u001b[39mget(\u001b[38;5;124m\"\u001b[39m\u001b[38;5;124mcapabilities\u001b[39m\u001b[38;5;124m\"\u001b[39m)\n",
      "File \u001b[1;32me:\\web scrapper\\venv\\lib\\site-packages\\selenium\\webdriver\\remote\\webdriver.py:447\u001b[0m, in \u001b[0;36mWebDriver.execute\u001b[1;34m(self, driver_command, params)\u001b[0m\n\u001b[0;32m    445\u001b[0m response \u001b[38;5;241m=\u001b[39m \u001b[38;5;28mself\u001b[39m\u001b[38;5;241m.\u001b[39mcommand_executor\u001b[38;5;241m.\u001b[39mexecute(driver_command, params)\n\u001b[0;32m    446\u001b[0m \u001b[38;5;28;01mif\u001b[39;00m response:\n\u001b[1;32m--> 447\u001b[0m     \u001b[38;5;28;43mself\u001b[39;49m\u001b[38;5;241;43m.\u001b[39;49m\u001b[43merror_handler\u001b[49m\u001b[38;5;241;43m.\u001b[39;49m\u001b[43mcheck_response\u001b[49m\u001b[43m(\u001b[49m\u001b[43mresponse\u001b[49m\u001b[43m)\u001b[49m\n\u001b[0;32m    448\u001b[0m     response[\u001b[38;5;124m\"\u001b[39m\u001b[38;5;124mvalue\u001b[39m\u001b[38;5;124m\"\u001b[39m] \u001b[38;5;241m=\u001b[39m \u001b[38;5;28mself\u001b[39m\u001b[38;5;241m.\u001b[39m_unwrap_value(response\u001b[38;5;241m.\u001b[39mget(\u001b[38;5;124m\"\u001b[39m\u001b[38;5;124mvalue\u001b[39m\u001b[38;5;124m\"\u001b[39m, \u001b[38;5;28;01mNone\u001b[39;00m))\n\u001b[0;32m    449\u001b[0m     \u001b[38;5;28;01mreturn\u001b[39;00m response\n",
      "File \u001b[1;32me:\\web scrapper\\venv\\lib\\site-packages\\selenium\\webdriver\\remote\\errorhandler.py:232\u001b[0m, in \u001b[0;36mErrorHandler.check_response\u001b[1;34m(self, response)\u001b[0m\n\u001b[0;32m    230\u001b[0m         alert_text \u001b[38;5;241m=\u001b[39m value[\u001b[38;5;124m\"\u001b[39m\u001b[38;5;124malert\u001b[39m\u001b[38;5;124m\"\u001b[39m]\u001b[38;5;241m.\u001b[39mget(\u001b[38;5;124m\"\u001b[39m\u001b[38;5;124mtext\u001b[39m\u001b[38;5;124m\"\u001b[39m)\n\u001b[0;32m    231\u001b[0m     \u001b[38;5;28;01mraise\u001b[39;00m exception_class(message, screen, stacktrace, alert_text)  \u001b[38;5;66;03m# type: ignore[call-arg]  # mypy is not smart enough here\u001b[39;00m\n\u001b[1;32m--> 232\u001b[0m \u001b[38;5;28;01mraise\u001b[39;00m exception_class(message, screen, stacktrace)\n",
      "\u001b[1;31mSessionNotCreatedException\u001b[0m: Message: session not created: cannot connect to chrome at 127.0.0.1:49894\nfrom chrome not reachable\nStacktrace:\n\tGetHandleVerifier [0x0xd43783+63299]\n\tGetHandleVerifier [0x0xd437c4+63364]\n\t(No symbol) [0x0xb70f70]\n\t(No symbol) [0x0xb64d6b]\n\t(No symbol) [0x0xba9fc6]\n\t(No symbol) [0x0xba053f]\n\t(No symbol) [0x0xba0376]\n\t(No symbol) [0x0xbea3c2]\n\t(No symbol) [0x0xbe9c5a]\n\t(No symbol) [0x0xbde376]\n\t(No symbol) [0x0xbad6e0]\n\t(No symbol) [0x0xbae544]\n\tGetHandleVerifier [0x0xf9e073+2531379]\n\tGetHandleVerifier [0x0xf99372+2511666]\n\tGetHandleVerifier [0x0xd69efa+220858]\n\tGetHandleVerifier [0x0xd5a548+156936]\n\tGetHandleVerifier [0x0xd60c7d+183357]\n\tGetHandleVerifier [0x0xd4b6e8+95912]\n\tGetHandleVerifier [0x0xd4b890+96336]\n\tGetHandleVerifier [0x0xd3666a+9770]\n\tBaseThreadInitThunk [0x0x77245d49+25]\n\tRtlInitializeExceptionChain [0x0x77aed09b+107]\n\tRtlGetAppContainerNamedObjectPath [0x0x77aed021+561]\n"
     ]
    }
   ],
   "source": [
    "import undetected_chromedriver as uc\n",
    "from selenium.webdriver.common.by import By\n",
    "from selenium.webdriver.common.keys import Keys\n",
    "import time\n",
    "\n",
    "# Start Chrome with evasion + incognito\n",
    "options = uc.ChromeOptions()\n",
    "options.add_argument(\"--start-maximized\")\n",
    "options.add_argument(\"--incognito\")  # <-- this is what adds incognito mode\n",
    "\n",
    "driver = uc.Chrome(options=options, headless=False)"
   ]
  },
  {
   "cell_type": "code",
   "execution_count": 10,
   "id": "56db0fb7",
   "metadata": {},
   "outputs": [],
   "source": [
    "driver.get('https://www.realtor.com/')"
   ]
  },
  {
   "cell_type": "code",
   "execution_count": 11,
   "id": "cdfb1ece",
   "metadata": {},
   "outputs": [],
   "source": [
    "from selenium.webdriver.common.keys import Keys\n",
    "from selenium.webdriver.common.action_chains import ActionChains\n",
    "actions = ActionChains(driver)"
   ]
  },
  {
   "cell_type": "code",
   "execution_count": 12,
   "id": "6e28cf12",
   "metadata": {},
   "outputs": [],
   "source": [
    "actions.key_down(Keys.CONTROL).send_keys('t').key_up(Keys.CONTROL).perform()"
   ]
  },
  {
   "cell_type": "code",
   "execution_count": 13,
   "id": "864a81f2",
   "metadata": {},
   "outputs": [],
   "source": [
    "driver.execute_script(\"window.open('', '_blank');\")\n"
   ]
  },
  {
   "cell_type": "code",
   "execution_count": null,
   "id": "40864096",
   "metadata": {},
   "outputs": [
    {
     "name": "stdout",
     "output_type": "stream",
     "text": [
      "🚀 Launching Realtor flow...\n"
     ]
    },
    {
     "ename": "URLError",
     "evalue": "<urlopen error [Errno 11001] getaddrinfo failed>",
     "output_type": "error",
     "traceback": [
      "\u001b[1;31m---------------------------------------------------------------------------\u001b[0m",
      "\u001b[1;31mgaierror\u001b[0m                                  Traceback (most recent call last)",
      "File \u001b[1;32me:\\web scrapper\\venv\\lib\\urllib\\request.py:1348\u001b[0m, in \u001b[0;36mAbstractHTTPHandler.do_open\u001b[1;34m(self, http_class, req, **http_conn_args)\u001b[0m\n\u001b[0;32m   1347\u001b[0m \u001b[38;5;28;01mtry\u001b[39;00m:\n\u001b[1;32m-> 1348\u001b[0m     \u001b[43mh\u001b[49m\u001b[38;5;241;43m.\u001b[39;49m\u001b[43mrequest\u001b[49m\u001b[43m(\u001b[49m\u001b[43mreq\u001b[49m\u001b[38;5;241;43m.\u001b[39;49m\u001b[43mget_method\u001b[49m\u001b[43m(\u001b[49m\u001b[43m)\u001b[49m\u001b[43m,\u001b[49m\u001b[43m \u001b[49m\u001b[43mreq\u001b[49m\u001b[38;5;241;43m.\u001b[39;49m\u001b[43mselector\u001b[49m\u001b[43m,\u001b[49m\u001b[43m \u001b[49m\u001b[43mreq\u001b[49m\u001b[38;5;241;43m.\u001b[39;49m\u001b[43mdata\u001b[49m\u001b[43m,\u001b[49m\u001b[43m \u001b[49m\u001b[43mheaders\u001b[49m\u001b[43m,\u001b[49m\n\u001b[0;32m   1349\u001b[0m \u001b[43m              \u001b[49m\u001b[43mencode_chunked\u001b[49m\u001b[38;5;241;43m=\u001b[39;49m\u001b[43mreq\u001b[49m\u001b[38;5;241;43m.\u001b[39;49m\u001b[43mhas_header\u001b[49m\u001b[43m(\u001b[49m\u001b[38;5;124;43m'\u001b[39;49m\u001b[38;5;124;43mTransfer-encoding\u001b[39;49m\u001b[38;5;124;43m'\u001b[39;49m\u001b[43m)\u001b[49m\u001b[43m)\u001b[49m\n\u001b[0;32m   1350\u001b[0m \u001b[38;5;28;01mexcept\u001b[39;00m \u001b[38;5;167;01mOSError\u001b[39;00m \u001b[38;5;28;01mas\u001b[39;00m err: \u001b[38;5;66;03m# timeout error\u001b[39;00m\n",
      "File \u001b[1;32me:\\web scrapper\\venv\\lib\\http\\client.py:1276\u001b[0m, in \u001b[0;36mHTTPConnection.request\u001b[1;34m(self, method, url, body, headers, encode_chunked)\u001b[0m\n\u001b[0;32m   1275\u001b[0m \u001b[38;5;250m\u001b[39m\u001b[38;5;124;03m\"\"\"Send a complete request to the server.\"\"\"\u001b[39;00m\n\u001b[1;32m-> 1276\u001b[0m \u001b[38;5;28;43mself\u001b[39;49m\u001b[38;5;241;43m.\u001b[39;49m\u001b[43m_send_request\u001b[49m\u001b[43m(\u001b[49m\u001b[43mmethod\u001b[49m\u001b[43m,\u001b[49m\u001b[43m \u001b[49m\u001b[43murl\u001b[49m\u001b[43m,\u001b[49m\u001b[43m \u001b[49m\u001b[43mbody\u001b[49m\u001b[43m,\u001b[49m\u001b[43m \u001b[49m\u001b[43mheaders\u001b[49m\u001b[43m,\u001b[49m\u001b[43m \u001b[49m\u001b[43mencode_chunked\u001b[49m\u001b[43m)\u001b[49m\n",
      "File \u001b[1;32me:\\web scrapper\\venv\\lib\\http\\client.py:1322\u001b[0m, in \u001b[0;36mHTTPConnection._send_request\u001b[1;34m(self, method, url, body, headers, encode_chunked)\u001b[0m\n\u001b[0;32m   1321\u001b[0m     body \u001b[38;5;241m=\u001b[39m _encode(body, \u001b[38;5;124m'\u001b[39m\u001b[38;5;124mbody\u001b[39m\u001b[38;5;124m'\u001b[39m)\n\u001b[1;32m-> 1322\u001b[0m \u001b[38;5;28;43mself\u001b[39;49m\u001b[38;5;241;43m.\u001b[39;49m\u001b[43mendheaders\u001b[49m\u001b[43m(\u001b[49m\u001b[43mbody\u001b[49m\u001b[43m,\u001b[49m\u001b[43m \u001b[49m\u001b[43mencode_chunked\u001b[49m\u001b[38;5;241;43m=\u001b[39;49m\u001b[43mencode_chunked\u001b[49m\u001b[43m)\u001b[49m\n",
      "File \u001b[1;32me:\\web scrapper\\venv\\lib\\http\\client.py:1271\u001b[0m, in \u001b[0;36mHTTPConnection.endheaders\u001b[1;34m(self, message_body, encode_chunked)\u001b[0m\n\u001b[0;32m   1270\u001b[0m     \u001b[38;5;28;01mraise\u001b[39;00m CannotSendHeader()\n\u001b[1;32m-> 1271\u001b[0m \u001b[38;5;28;43mself\u001b[39;49m\u001b[38;5;241;43m.\u001b[39;49m\u001b[43m_send_output\u001b[49m\u001b[43m(\u001b[49m\u001b[43mmessage_body\u001b[49m\u001b[43m,\u001b[49m\u001b[43m \u001b[49m\u001b[43mencode_chunked\u001b[49m\u001b[38;5;241;43m=\u001b[39;49m\u001b[43mencode_chunked\u001b[49m\u001b[43m)\u001b[49m\n",
      "File \u001b[1;32me:\\web scrapper\\venv\\lib\\http\\client.py:1031\u001b[0m, in \u001b[0;36mHTTPConnection._send_output\u001b[1;34m(self, message_body, encode_chunked)\u001b[0m\n\u001b[0;32m   1030\u001b[0m \u001b[38;5;28;01mdel\u001b[39;00m \u001b[38;5;28mself\u001b[39m\u001b[38;5;241m.\u001b[39m_buffer[:]\n\u001b[1;32m-> 1031\u001b[0m \u001b[38;5;28;43mself\u001b[39;49m\u001b[38;5;241;43m.\u001b[39;49m\u001b[43msend\u001b[49m\u001b[43m(\u001b[49m\u001b[43mmsg\u001b[49m\u001b[43m)\u001b[49m\n\u001b[0;32m   1033\u001b[0m \u001b[38;5;28;01mif\u001b[39;00m message_body \u001b[38;5;129;01mis\u001b[39;00m \u001b[38;5;129;01mnot\u001b[39;00m \u001b[38;5;28;01mNone\u001b[39;00m:\n\u001b[0;32m   1034\u001b[0m \n\u001b[0;32m   1035\u001b[0m     \u001b[38;5;66;03m# create a consistent interface to message_body\u001b[39;00m\n",
      "File \u001b[1;32me:\\web scrapper\\venv\\lib\\http\\client.py:969\u001b[0m, in \u001b[0;36mHTTPConnection.send\u001b[1;34m(self, data)\u001b[0m\n\u001b[0;32m    968\u001b[0m \u001b[38;5;28;01mif\u001b[39;00m \u001b[38;5;28mself\u001b[39m\u001b[38;5;241m.\u001b[39mauto_open:\n\u001b[1;32m--> 969\u001b[0m     \u001b[38;5;28;43mself\u001b[39;49m\u001b[38;5;241;43m.\u001b[39;49m\u001b[43mconnect\u001b[49m\u001b[43m(\u001b[49m\u001b[43m)\u001b[49m\n\u001b[0;32m    970\u001b[0m \u001b[38;5;28;01melse\u001b[39;00m:\n",
      "File \u001b[1;32me:\\web scrapper\\venv\\lib\\http\\client.py:1441\u001b[0m, in \u001b[0;36mHTTPSConnection.connect\u001b[1;34m(self)\u001b[0m\n\u001b[0;32m   1439\u001b[0m \u001b[38;5;124m\"\u001b[39m\u001b[38;5;124mConnect to a host on a given (SSL) port.\u001b[39m\u001b[38;5;124m\"\u001b[39m\n\u001b[1;32m-> 1441\u001b[0m \u001b[38;5;28;43msuper\u001b[39;49m\u001b[43m(\u001b[49m\u001b[43m)\u001b[49m\u001b[38;5;241;43m.\u001b[39;49m\u001b[43mconnect\u001b[49m\u001b[43m(\u001b[49m\u001b[43m)\u001b[49m\n\u001b[0;32m   1443\u001b[0m \u001b[38;5;28;01mif\u001b[39;00m \u001b[38;5;28mself\u001b[39m\u001b[38;5;241m.\u001b[39m_tunnel_host:\n",
      "File \u001b[1;32me:\\web scrapper\\venv\\lib\\http\\client.py:940\u001b[0m, in \u001b[0;36mHTTPConnection.connect\u001b[1;34m(self)\u001b[0m\n\u001b[0;32m    939\u001b[0m sys\u001b[38;5;241m.\u001b[39maudit(\u001b[38;5;124m\"\u001b[39m\u001b[38;5;124mhttp.client.connect\u001b[39m\u001b[38;5;124m\"\u001b[39m, \u001b[38;5;28mself\u001b[39m, \u001b[38;5;28mself\u001b[39m\u001b[38;5;241m.\u001b[39mhost, \u001b[38;5;28mself\u001b[39m\u001b[38;5;241m.\u001b[39mport)\n\u001b[1;32m--> 940\u001b[0m \u001b[38;5;28mself\u001b[39m\u001b[38;5;241m.\u001b[39msock \u001b[38;5;241m=\u001b[39m \u001b[38;5;28;43mself\u001b[39;49m\u001b[38;5;241;43m.\u001b[39;49m\u001b[43m_create_connection\u001b[49m\u001b[43m(\u001b[49m\n\u001b[0;32m    941\u001b[0m \u001b[43m    \u001b[49m\u001b[43m(\u001b[49m\u001b[38;5;28;43mself\u001b[39;49m\u001b[38;5;241;43m.\u001b[39;49m\u001b[43mhost\u001b[49m\u001b[43m,\u001b[49m\u001b[38;5;28;43mself\u001b[39;49m\u001b[38;5;241;43m.\u001b[39;49m\u001b[43mport\u001b[49m\u001b[43m)\u001b[49m\u001b[43m,\u001b[49m\u001b[43m \u001b[49m\u001b[38;5;28;43mself\u001b[39;49m\u001b[38;5;241;43m.\u001b[39;49m\u001b[43mtimeout\u001b[49m\u001b[43m,\u001b[49m\u001b[43m \u001b[49m\u001b[38;5;28;43mself\u001b[39;49m\u001b[38;5;241;43m.\u001b[39;49m\u001b[43msource_address\u001b[49m\u001b[43m)\u001b[49m\n\u001b[0;32m    942\u001b[0m \u001b[38;5;28mself\u001b[39m\u001b[38;5;241m.\u001b[39msock\u001b[38;5;241m.\u001b[39msetsockopt(socket\u001b[38;5;241m.\u001b[39mIPPROTO_TCP, socket\u001b[38;5;241m.\u001b[39mTCP_NODELAY, \u001b[38;5;241m1\u001b[39m)\n",
      "File \u001b[1;32me:\\web scrapper\\venv\\lib\\socket.py:824\u001b[0m, in \u001b[0;36mcreate_connection\u001b[1;34m(address, timeout, source_address)\u001b[0m\n\u001b[0;32m    823\u001b[0m err \u001b[38;5;241m=\u001b[39m \u001b[38;5;28;01mNone\u001b[39;00m\n\u001b[1;32m--> 824\u001b[0m \u001b[38;5;28;01mfor\u001b[39;00m res \u001b[38;5;129;01min\u001b[39;00m \u001b[43mgetaddrinfo\u001b[49m\u001b[43m(\u001b[49m\u001b[43mhost\u001b[49m\u001b[43m,\u001b[49m\u001b[43m \u001b[49m\u001b[43mport\u001b[49m\u001b[43m,\u001b[49m\u001b[43m \u001b[49m\u001b[38;5;241;43m0\u001b[39;49m\u001b[43m,\u001b[49m\u001b[43m \u001b[49m\u001b[43mSOCK_STREAM\u001b[49m\u001b[43m)\u001b[49m:\n\u001b[0;32m    825\u001b[0m     af, socktype, proto, canonname, sa \u001b[38;5;241m=\u001b[39m res\n",
      "File \u001b[1;32me:\\web scrapper\\venv\\lib\\socket.py:955\u001b[0m, in \u001b[0;36mgetaddrinfo\u001b[1;34m(host, port, family, type, proto, flags)\u001b[0m\n\u001b[0;32m    954\u001b[0m addrlist \u001b[38;5;241m=\u001b[39m []\n\u001b[1;32m--> 955\u001b[0m \u001b[38;5;28;01mfor\u001b[39;00m res \u001b[38;5;129;01min\u001b[39;00m \u001b[43m_socket\u001b[49m\u001b[38;5;241;43m.\u001b[39;49m\u001b[43mgetaddrinfo\u001b[49m\u001b[43m(\u001b[49m\u001b[43mhost\u001b[49m\u001b[43m,\u001b[49m\u001b[43m \u001b[49m\u001b[43mport\u001b[49m\u001b[43m,\u001b[49m\u001b[43m \u001b[49m\u001b[43mfamily\u001b[49m\u001b[43m,\u001b[49m\u001b[43m \u001b[49m\u001b[38;5;28;43mtype\u001b[39;49m\u001b[43m,\u001b[49m\u001b[43m \u001b[49m\u001b[43mproto\u001b[49m\u001b[43m,\u001b[49m\u001b[43m \u001b[49m\u001b[43mflags\u001b[49m\u001b[43m)\u001b[49m:\n\u001b[0;32m    956\u001b[0m     af, socktype, proto, canonname, sa \u001b[38;5;241m=\u001b[39m res\n",
      "\u001b[1;31mgaierror\u001b[0m: [Errno 11001] getaddrinfo failed",
      "\nDuring handling of the above exception, another exception occurred:\n",
      "\u001b[1;31mURLError\u001b[0m                                  Traceback (most recent call last)",
      "Cell \u001b[1;32mIn[4], line 68\u001b[0m\n\u001b[0;32m     65\u001b[0m \u001b[38;5;28;01mif\u001b[39;00m \u001b[38;5;129;01mnot\u001b[39;00m os\u001b[38;5;241m.\u001b[39mpath\u001b[38;5;241m.\u001b[39mexists(PROFILE_PATH):\n\u001b[0;32m     66\u001b[0m     warmup_profile()\n\u001b[1;32m---> 68\u001b[0m \u001b[43mopen_realtor\u001b[49m\u001b[43m(\u001b[49m\u001b[43m)\u001b[49m\n",
      "Cell \u001b[1;32mIn[4], line 29\u001b[0m, in \u001b[0;36mopen_realtor\u001b[1;34m()\u001b[0m\n\u001b[0;32m     26\u001b[0m options\u001b[38;5;241m.\u001b[39madd_argument(\u001b[38;5;124m\"\u001b[39m\u001b[38;5;124m--no-default-browser-check\u001b[39m\u001b[38;5;124m\"\u001b[39m)\n\u001b[0;32m     27\u001b[0m options\u001b[38;5;241m.\u001b[39madd_argument(\u001b[38;5;124m\"\u001b[39m\u001b[38;5;124m--disable-popup-blocking\u001b[39m\u001b[38;5;124m\"\u001b[39m)\n\u001b[1;32m---> 29\u001b[0m driver \u001b[38;5;241m=\u001b[39m \u001b[43muc\u001b[49m\u001b[38;5;241;43m.\u001b[39;49m\u001b[43mChrome\u001b[49m\u001b[43m(\u001b[49m\u001b[43moptions\u001b[49m\u001b[38;5;241;43m=\u001b[39;49m\u001b[43moptions\u001b[49m\u001b[43m,\u001b[49m\u001b[43m \u001b[49m\u001b[43mheadless\u001b[49m\u001b[38;5;241;43m=\u001b[39;49m\u001b[38;5;28;43;01mFalse\u001b[39;49;00m\u001b[43m)\u001b[49m\n\u001b[0;32m     30\u001b[0m driver\u001b[38;5;241m.\u001b[39mget(\u001b[38;5;124m\"\u001b[39m\u001b[38;5;124mhttps://www.google.com\u001b[39m\u001b[38;5;124m\"\u001b[39m)\n\u001b[0;32m     31\u001b[0m time\u001b[38;5;241m.\u001b[39msleep(\u001b[38;5;241m3\u001b[39m)\n",
      "File \u001b[1;32me:\\web scrapper\\venv\\lib\\site-packages\\undetected_chromedriver\\__init__.py:258\u001b[0m, in \u001b[0;36mChrome.__init__\u001b[1;34m(self, options, user_data_dir, driver_executable_path, browser_executable_path, port, enable_cdp_events, desired_capabilities, advanced_elements, keep_alive, log_level, headless, version_main, patcher_force_close, suppress_welcome, use_subprocess, debug, no_sandbox, user_multi_procs, **kw)\u001b[0m\n\u001b[0;32m    251\u001b[0m \u001b[38;5;28mself\u001b[39m\u001b[38;5;241m.\u001b[39mpatcher \u001b[38;5;241m=\u001b[39m Patcher(\n\u001b[0;32m    252\u001b[0m     executable_path\u001b[38;5;241m=\u001b[39mdriver_executable_path,\n\u001b[0;32m    253\u001b[0m     force\u001b[38;5;241m=\u001b[39mpatcher_force_close,\n\u001b[0;32m    254\u001b[0m     version_main\u001b[38;5;241m=\u001b[39mversion_main,\n\u001b[0;32m    255\u001b[0m     user_multi_procs\u001b[38;5;241m=\u001b[39muser_multi_procs,\n\u001b[0;32m    256\u001b[0m )\n\u001b[0;32m    257\u001b[0m \u001b[38;5;66;03m# self.patcher.auto(user_multiprocess = user_multi_num_procs)\u001b[39;00m\n\u001b[1;32m--> 258\u001b[0m \u001b[38;5;28;43mself\u001b[39;49m\u001b[38;5;241;43m.\u001b[39;49m\u001b[43mpatcher\u001b[49m\u001b[38;5;241;43m.\u001b[39;49m\u001b[43mauto\u001b[49m\u001b[43m(\u001b[49m\u001b[43m)\u001b[49m\n\u001b[0;32m    260\u001b[0m \u001b[38;5;66;03m# self.patcher = patcher\u001b[39;00m\n\u001b[0;32m    261\u001b[0m \u001b[38;5;28;01mif\u001b[39;00m \u001b[38;5;129;01mnot\u001b[39;00m options:\n",
      "File \u001b[1;32me:\\web scrapper\\venv\\lib\\site-packages\\undetected_chromedriver\\patcher.py:175\u001b[0m, in \u001b[0;36mPatcher.auto\u001b[1;34m(self, executable_path, force, version_main, _)\u001b[0m\n\u001b[0;32m    172\u001b[0m \u001b[38;5;28;01mexcept\u001b[39;00m \u001b[38;5;167;01mFileNotFoundError\u001b[39;00m:\n\u001b[0;32m    173\u001b[0m     \u001b[38;5;28;01mpass\u001b[39;00m\n\u001b[1;32m--> 175\u001b[0m release \u001b[38;5;241m=\u001b[39m \u001b[38;5;28;43mself\u001b[39;49m\u001b[38;5;241;43m.\u001b[39;49m\u001b[43mfetch_release_number\u001b[49m\u001b[43m(\u001b[49m\u001b[43m)\u001b[49m\n\u001b[0;32m    176\u001b[0m \u001b[38;5;28mself\u001b[39m\u001b[38;5;241m.\u001b[39mversion_main \u001b[38;5;241m=\u001b[39m release\u001b[38;5;241m.\u001b[39mversion[\u001b[38;5;241m0\u001b[39m]\n\u001b[0;32m    177\u001b[0m \u001b[38;5;28mself\u001b[39m\u001b[38;5;241m.\u001b[39mversion_full \u001b[38;5;241m=\u001b[39m release\n",
      "File \u001b[1;32me:\\web scrapper\\venv\\lib\\site-packages\\undetected_chromedriver\\patcher.py:250\u001b[0m, in \u001b[0;36mPatcher.fetch_release_number\u001b[1;34m(self)\u001b[0m\n\u001b[0;32m    248\u001b[0m path \u001b[38;5;241m=\u001b[39m \u001b[38;5;124m\"\u001b[39m\u001b[38;5;124m/last-known-good-versions-with-downloads.json\u001b[39m\u001b[38;5;124m\"\u001b[39m\n\u001b[0;32m    249\u001b[0m logger\u001b[38;5;241m.\u001b[39mdebug(\u001b[38;5;124m\"\u001b[39m\u001b[38;5;124mgetting release number from \u001b[39m\u001b[38;5;132;01m%s\u001b[39;00m\u001b[38;5;124m\"\u001b[39m \u001b[38;5;241m%\u001b[39m path)\n\u001b[1;32m--> 250\u001b[0m \u001b[38;5;28;01mwith\u001b[39;00m \u001b[43murlopen\u001b[49m\u001b[43m(\u001b[49m\u001b[38;5;28;43mself\u001b[39;49m\u001b[38;5;241;43m.\u001b[39;49m\u001b[43murl_repo\u001b[49m\u001b[43m \u001b[49m\u001b[38;5;241;43m+\u001b[39;49m\u001b[43m \u001b[49m\u001b[43mpath\u001b[49m\u001b[43m)\u001b[49m \u001b[38;5;28;01mas\u001b[39;00m conn:\n\u001b[0;32m    251\u001b[0m     response \u001b[38;5;241m=\u001b[39m conn\u001b[38;5;241m.\u001b[39mread()\u001b[38;5;241m.\u001b[39mdecode()\n\u001b[0;32m    253\u001b[0m last_versions \u001b[38;5;241m=\u001b[39m json\u001b[38;5;241m.\u001b[39mloads(response)\n",
      "File \u001b[1;32me:\\web scrapper\\venv\\lib\\urllib\\request.py:216\u001b[0m, in \u001b[0;36murlopen\u001b[1;34m(url, data, timeout, cafile, capath, cadefault, context)\u001b[0m\n\u001b[0;32m    214\u001b[0m \u001b[38;5;28;01melse\u001b[39;00m:\n\u001b[0;32m    215\u001b[0m     opener \u001b[38;5;241m=\u001b[39m _opener\n\u001b[1;32m--> 216\u001b[0m \u001b[38;5;28;01mreturn\u001b[39;00m \u001b[43mopener\u001b[49m\u001b[38;5;241;43m.\u001b[39;49m\u001b[43mopen\u001b[49m\u001b[43m(\u001b[49m\u001b[43murl\u001b[49m\u001b[43m,\u001b[49m\u001b[43m \u001b[49m\u001b[43mdata\u001b[49m\u001b[43m,\u001b[49m\u001b[43m \u001b[49m\u001b[43mtimeout\u001b[49m\u001b[43m)\u001b[49m\n",
      "File \u001b[1;32me:\\web scrapper\\venv\\lib\\urllib\\request.py:519\u001b[0m, in \u001b[0;36mOpenerDirector.open\u001b[1;34m(self, fullurl, data, timeout)\u001b[0m\n\u001b[0;32m    516\u001b[0m     req \u001b[38;5;241m=\u001b[39m meth(req)\n\u001b[0;32m    518\u001b[0m sys\u001b[38;5;241m.\u001b[39maudit(\u001b[38;5;124m'\u001b[39m\u001b[38;5;124murllib.Request\u001b[39m\u001b[38;5;124m'\u001b[39m, req\u001b[38;5;241m.\u001b[39mfull_url, req\u001b[38;5;241m.\u001b[39mdata, req\u001b[38;5;241m.\u001b[39mheaders, req\u001b[38;5;241m.\u001b[39mget_method())\n\u001b[1;32m--> 519\u001b[0m response \u001b[38;5;241m=\u001b[39m \u001b[38;5;28;43mself\u001b[39;49m\u001b[38;5;241;43m.\u001b[39;49m\u001b[43m_open\u001b[49m\u001b[43m(\u001b[49m\u001b[43mreq\u001b[49m\u001b[43m,\u001b[49m\u001b[43m \u001b[49m\u001b[43mdata\u001b[49m\u001b[43m)\u001b[49m\n\u001b[0;32m    521\u001b[0m \u001b[38;5;66;03m# post-process response\u001b[39;00m\n\u001b[0;32m    522\u001b[0m meth_name \u001b[38;5;241m=\u001b[39m protocol\u001b[38;5;241m+\u001b[39m\u001b[38;5;124m\"\u001b[39m\u001b[38;5;124m_response\u001b[39m\u001b[38;5;124m\"\u001b[39m\n",
      "File \u001b[1;32me:\\web scrapper\\venv\\lib\\urllib\\request.py:536\u001b[0m, in \u001b[0;36mOpenerDirector._open\u001b[1;34m(self, req, data)\u001b[0m\n\u001b[0;32m    533\u001b[0m     \u001b[38;5;28;01mreturn\u001b[39;00m result\n\u001b[0;32m    535\u001b[0m protocol \u001b[38;5;241m=\u001b[39m req\u001b[38;5;241m.\u001b[39mtype\n\u001b[1;32m--> 536\u001b[0m result \u001b[38;5;241m=\u001b[39m \u001b[38;5;28;43mself\u001b[39;49m\u001b[38;5;241;43m.\u001b[39;49m\u001b[43m_call_chain\u001b[49m\u001b[43m(\u001b[49m\u001b[38;5;28;43mself\u001b[39;49m\u001b[38;5;241;43m.\u001b[39;49m\u001b[43mhandle_open\u001b[49m\u001b[43m,\u001b[49m\u001b[43m \u001b[49m\u001b[43mprotocol\u001b[49m\u001b[43m,\u001b[49m\u001b[43m \u001b[49m\u001b[43mprotocol\u001b[49m\u001b[43m \u001b[49m\u001b[38;5;241;43m+\u001b[39;49m\n\u001b[0;32m    537\u001b[0m \u001b[43m                          \u001b[49m\u001b[38;5;124;43m'\u001b[39;49m\u001b[38;5;124;43m_open\u001b[39;49m\u001b[38;5;124;43m'\u001b[39;49m\u001b[43m,\u001b[49m\u001b[43m \u001b[49m\u001b[43mreq\u001b[49m\u001b[43m)\u001b[49m\n\u001b[0;32m    538\u001b[0m \u001b[38;5;28;01mif\u001b[39;00m result:\n\u001b[0;32m    539\u001b[0m     \u001b[38;5;28;01mreturn\u001b[39;00m result\n",
      "File \u001b[1;32me:\\web scrapper\\venv\\lib\\urllib\\request.py:496\u001b[0m, in \u001b[0;36mOpenerDirector._call_chain\u001b[1;34m(self, chain, kind, meth_name, *args)\u001b[0m\n\u001b[0;32m    494\u001b[0m \u001b[38;5;28;01mfor\u001b[39;00m handler \u001b[38;5;129;01min\u001b[39;00m handlers:\n\u001b[0;32m    495\u001b[0m     func \u001b[38;5;241m=\u001b[39m \u001b[38;5;28mgetattr\u001b[39m(handler, meth_name)\n\u001b[1;32m--> 496\u001b[0m     result \u001b[38;5;241m=\u001b[39m \u001b[43mfunc\u001b[49m\u001b[43m(\u001b[49m\u001b[38;5;241;43m*\u001b[39;49m\u001b[43margs\u001b[49m\u001b[43m)\u001b[49m\n\u001b[0;32m    497\u001b[0m     \u001b[38;5;28;01mif\u001b[39;00m result \u001b[38;5;129;01mis\u001b[39;00m \u001b[38;5;129;01mnot\u001b[39;00m \u001b[38;5;28;01mNone\u001b[39;00m:\n\u001b[0;32m    498\u001b[0m         \u001b[38;5;28;01mreturn\u001b[39;00m result\n",
      "File \u001b[1;32me:\\web scrapper\\venv\\lib\\urllib\\request.py:1391\u001b[0m, in \u001b[0;36mHTTPSHandler.https_open\u001b[1;34m(self, req)\u001b[0m\n\u001b[0;32m   1390\u001b[0m \u001b[38;5;28;01mdef\u001b[39;00m\u001b[38;5;250m \u001b[39m\u001b[38;5;21mhttps_open\u001b[39m(\u001b[38;5;28mself\u001b[39m, req):\n\u001b[1;32m-> 1391\u001b[0m     \u001b[38;5;28;01mreturn\u001b[39;00m \u001b[38;5;28;43mself\u001b[39;49m\u001b[38;5;241;43m.\u001b[39;49m\u001b[43mdo_open\u001b[49m\u001b[43m(\u001b[49m\u001b[43mhttp\u001b[49m\u001b[38;5;241;43m.\u001b[39;49m\u001b[43mclient\u001b[49m\u001b[38;5;241;43m.\u001b[39;49m\u001b[43mHTTPSConnection\u001b[49m\u001b[43m,\u001b[49m\u001b[43m \u001b[49m\u001b[43mreq\u001b[49m\u001b[43m,\u001b[49m\n\u001b[0;32m   1392\u001b[0m \u001b[43m        \u001b[49m\u001b[43mcontext\u001b[49m\u001b[38;5;241;43m=\u001b[39;49m\u001b[38;5;28;43mself\u001b[39;49m\u001b[38;5;241;43m.\u001b[39;49m\u001b[43m_context\u001b[49m\u001b[43m,\u001b[49m\u001b[43m \u001b[49m\u001b[43mcheck_hostname\u001b[49m\u001b[38;5;241;43m=\u001b[39;49m\u001b[38;5;28;43mself\u001b[39;49m\u001b[38;5;241;43m.\u001b[39;49m\u001b[43m_check_hostname\u001b[49m\u001b[43m)\u001b[49m\n",
      "File \u001b[1;32me:\\web scrapper\\venv\\lib\\urllib\\request.py:1351\u001b[0m, in \u001b[0;36mAbstractHTTPHandler.do_open\u001b[1;34m(self, http_class, req, **http_conn_args)\u001b[0m\n\u001b[0;32m   1348\u001b[0m         h\u001b[38;5;241m.\u001b[39mrequest(req\u001b[38;5;241m.\u001b[39mget_method(), req\u001b[38;5;241m.\u001b[39mselector, req\u001b[38;5;241m.\u001b[39mdata, headers,\n\u001b[0;32m   1349\u001b[0m                   encode_chunked\u001b[38;5;241m=\u001b[39mreq\u001b[38;5;241m.\u001b[39mhas_header(\u001b[38;5;124m'\u001b[39m\u001b[38;5;124mTransfer-encoding\u001b[39m\u001b[38;5;124m'\u001b[39m))\n\u001b[0;32m   1350\u001b[0m     \u001b[38;5;28;01mexcept\u001b[39;00m \u001b[38;5;167;01mOSError\u001b[39;00m \u001b[38;5;28;01mas\u001b[39;00m err: \u001b[38;5;66;03m# timeout error\u001b[39;00m\n\u001b[1;32m-> 1351\u001b[0m         \u001b[38;5;28;01mraise\u001b[39;00m URLError(err)\n\u001b[0;32m   1352\u001b[0m     r \u001b[38;5;241m=\u001b[39m h\u001b[38;5;241m.\u001b[39mgetresponse()\n\u001b[0;32m   1353\u001b[0m \u001b[38;5;28;01mexcept\u001b[39;00m:\n",
      "\u001b[1;31mURLError\u001b[0m: <urlopen error [Errno 11001] getaddrinfo failed>"
     ]
    }
   ],
   "source": [
    "    import undetected_chromedriver as uc\n",
    "    import time\n",
    "    import os\n",
    "    import shutil\n",
    "    from selenium.webdriver.common.by import By\n",
    "\n",
    "    PROFILE_PATH = \"chrome_profile_realtor\"\n",
    "\n",
    "    def warmup_profile():\n",
    "        print(\"🟡 First run detected — warming up Chrome profile...\")\n",
    "        options = uc.ChromeOptions()\n",
    "        options.add_argument(f\"--user-data-dir={os.path.abspath(PROFILE_PATH)}\")\n",
    "        driver = uc.Chrome(options=options, headless=False)\n",
    "        driver.get(\"https://www.google.com\")\n",
    "        time.sleep(5)\n",
    "        driver.execute_script(\"window.scrollTo(0, 500);\")\n",
    "        time.sleep(2)\n",
    "        driver.quit()\n",
    "        print(\"✅ Warm-up complete.\")\n",
    "\n",
    "    def open_realtor():\n",
    "        print(\"🚀 Launching Realtor flow...\")\n",
    "        options = uc.ChromeOptions()\n",
    "        options.add_argument(f\"--user-data-dir={os.path.abspath(PROFILE_PATH)}\")\n",
    "        options.add_argument(\"--no-first-run\")\n",
    "        options.add_argument(\"--no-default-browser-check\")\n",
    "        options.add_argument(\"--disable-popup-blocking\")\n",
    "\n",
    "        driver = uc.Chrome(options=options, headless=False)\n",
    "        driver.get(\"https://www.google.com\")\n",
    "        time.sleep(3)\n",
    "\n",
    "        driver.execute_script(\"\"\"\n",
    "            let a = document.createElement('a');\n",
    "            a.innerText = 'Go to Realtor';\n",
    "            a.href = 'https://www.realtor.com';\n",
    "            a.target = '_blank';\n",
    "            a.id = 'realtorLink';\n",
    "            a.style.fontSize = '30px';\n",
    "            a.style.position = 'absolute';\n",
    "            a.style.top = '100px';\n",
    "            a.style.left = '100px';\n",
    "            a.style.backgroundColor = '#4CAF50';\n",
    "            a.style.color = 'white';\n",
    "            a.style.padding = '10px';\n",
    "            a.style.textDecoration = 'none';\n",
    "            document.body.appendChild(a);\n",
    "        \"\"\")\n",
    "        time.sleep(1)\n",
    "        driver.find_element(By.ID, \"realtorLink\").click()\n",
    "\n",
    "        time.sleep(3)\n",
    "        tabs = driver.window_handles\n",
    "        if len(tabs) > 1:\n",
    "            driver.switch_to.window(tabs[1])\n",
    "            print(\"✅ Realtor tab opened.\")\n",
    "            print(\"Title:\", driver.title)\n",
    "        else:\n",
    "            print(\"❌ Failed to open Realtor tab.\")\n",
    "\n",
    "        input(\"Press Enter to quit...\")\n",
    "        driver.quit()\n",
    "\n",
    "    # === MAIN FLOW ===\n",
    "    if not os.path.exists(PROFILE_PATH):\n",
    "        warmup_profile()\n",
    "\n",
    "    open_realtor()\n"
   ]
  },
  {
   "cell_type": "code",
   "execution_count": 4,
   "id": "d8dd7545",
   "metadata": {},
   "outputs": [],
   "source": [
    "driver = uc.Chrome(headless=False)"
   ]
  },
  {
   "cell_type": "code",
   "execution_count": 8,
   "id": "2eda5afa",
   "metadata": {},
   "outputs": [],
   "source": [
    "driver.get('https://www.amazon.com')"
   ]
  },
  {
   "cell_type": "code",
   "execution_count": null,
   "id": "c32dbe6e",
   "metadata": {},
   "outputs": [
    {
     "name": "stdout",
     "output_type": "stream",
     "text": [
      "Title: Amazon.com. Spend less. Smile more.\n"
     ]
    }
   ],
   "source": [
    "import undetected_chromedriver as uc\n",
    "import time\n",
    "\n",
    "\n",
    "PROFILE_PATH = \"chrome_profile_realtor\"\n",
    "\n",
    "for i in range(2):\n",
    "    options = uc.ChromeOptions()\n",
    "    options.add_argument(f\"--user-data-dir={os.path.abspath(PROFILE_PATH)}\")\n",
    "    driver = uc.Chrome(options=options, headless=False)\n",
    "\n",
    "    # Step 1: Open Google (neutral site)\n",
    "    driver.get(\"https://www.google.com\")\n",
    "    time.sleep(3)\n",
    "\n",
    "    # Step 2: Inject a clickable button to simulate user interaction\n",
    "    driver.execute_script(\"\"\"\n",
    "        let btn = document.createElement('button');\n",
    "        btn.innerText = 'Click Me';\n",
    "        btn.id = 'myBtn';\n",
    "        btn.onclick = function() {\n",
    "            window.open('https://www.realtor.com', '_blank');\n",
    "        };\n",
    "        document.body.appendChild(btn);\n",
    "    \"\"\")\n",
    "\n",
    "    time.sleep(1)\n",
    "\n",
    "    # Step 3: Find the button and click it\n",
    "    from selenium.webdriver.common.by import By\n",
    "    driver.find_element(By.ID, \"myBtn\").click()\n",
    "\n",
    "    # Step 4: Switch to the new tab\n",
    "    time.sleep(3)\n",
    "    driver.switch_to.window(driver.window_handles[1])\n",
    "\n",
    "    # Done — you're now on Realtor.com\n",
    "    time.sleep(5)\n",
    "    print(\"Title:\", driver.title)\n",
    "    input(\"Press Enter to quit...\")\n",
    "    driver.quit()\n"
   ]
  },
  {
   "cell_type": "code",
   "execution_count": null,
   "id": "41877c60",
   "metadata": {},
   "outputs": [
    {
     "name": "stderr",
     "output_type": "stream",
     "text": [
      "could not detect version_main.therefore, we are assuming it is chrome 108 or higher\n"
     ]
    },
    {
     "name": "stdout",
     "output_type": "stream",
     "text": [
      "⚠️ Profile not found. Starting warm-up...\n",
      "✅ Profile warmed and saved at: e:\\web scrapper\\chrome_profile\n"
     ]
    },
    {
     "ename": "NoSuchElementException",
     "evalue": "Message: no such element: Unable to locate element: {\"method\":\"css selector\",\"selector\":\"[id=\"search-bar\"]\"}\n  (Session info: chrome=137.0.7151.120); For documentation on this error, please visit: https://www.selenium.dev/documentation/webdriver/troubleshooting/errors#no-such-element-exception\nStacktrace:\n\tGetHandleVerifier [0x0x813b03+62899]\n\tGetHandleVerifier [0x0x813b44+62964]\n\t(No symbol) [0x0x6410f3]\n\t(No symbol) [0x0x68980e]\n\t(No symbol) [0x0x689bab]\n\t(No symbol) [0x0x6d25c2]\n\t(No symbol) [0x0x6ae554]\n\t(No symbol) [0x0x6cfd81]\n\t(No symbol) [0x0x6ae306]\n\t(No symbol) [0x0x67d670]\n\t(No symbol) [0x0x67e4e4]\n\tGetHandleVerifier [0x0xa74793+2556483]\n\tGetHandleVerifier [0x0xa6fd02+2537394]\n\tGetHandleVerifier [0x0x83a2fa+220586]\n\tGetHandleVerifier [0x0x82aae8+157080]\n\tGetHandleVerifier [0x0x83141d+184013]\n\tGetHandleVerifier [0x0x81ba68+95512]\n\tGetHandleVerifier [0x0x81bc10+95936]\n\tGetHandleVerifier [0x0x806b5a+9738]\n\tBaseThreadInitThunk [0x0x75f85d49+25]\n\tRtlInitializeExceptionChain [0x0x7735d09b+107]\n\tRtlGetAppContainerNamedObjectPath [0x0x7735d021+561]\n",
     "output_type": "error",
     "traceback": [
      "\u001b[1;31m---------------------------------------------------------------------------\u001b[0m",
      "\u001b[1;31mNoSuchElementException\u001b[0m                    Traceback (most recent call last)",
      "Cell \u001b[1;32mIn[2], line 152\u001b[0m\n\u001b[0;32m    149\u001b[0m     start_scraping()\n\u001b[0;32m    151\u001b[0m \u001b[38;5;28;01mif\u001b[39;00m \u001b[38;5;18m__name__\u001b[39m \u001b[38;5;241m==\u001b[39m \u001b[38;5;124m\"\u001b[39m\u001b[38;5;124m__main__\u001b[39m\u001b[38;5;124m\"\u001b[39m:\n\u001b[1;32m--> 152\u001b[0m     \u001b[43mmain\u001b[49m\u001b[43m(\u001b[49m\u001b[43m)\u001b[49m\n",
      "Cell \u001b[1;32mIn[2], line 149\u001b[0m, in \u001b[0;36mmain\u001b[1;34m()\u001b[0m\n\u001b[0;32m    147\u001b[0m \u001b[38;5;28;01mif\u001b[39;00m \u001b[38;5;129;01mnot\u001b[39;00m os\u001b[38;5;241m.\u001b[39mpath\u001b[38;5;241m.\u001b[39mexists(PROFILE_PATH):\n\u001b[0;32m    148\u001b[0m     warmup_and_create_profile()\n\u001b[1;32m--> 149\u001b[0m \u001b[43mstart_scraping\u001b[49m\u001b[43m(\u001b[49m\u001b[43m)\u001b[49m\n",
      "Cell \u001b[1;32mIn[2], line 143\u001b[0m, in \u001b[0;36mstart_scraping\u001b[1;34m()\u001b[0m\n\u001b[0;32m    140\u001b[0m     \u001b[38;5;28;01mreturn\u001b[39;00m\n\u001b[0;32m    142\u001b[0m scraper \u001b[38;5;241m=\u001b[39m RealtorScrapper(driver)\n\u001b[1;32m--> 143\u001b[0m \u001b[43mscraper\u001b[49m\u001b[38;5;241;43m.\u001b[39;49m\u001b[43mscrape_pages\u001b[49m\u001b[43m(\u001b[49m\u001b[38;5;124;43m\"\u001b[39;49m\u001b[38;5;124;43mNew York\u001b[39;49m\u001b[38;5;124;43m\"\u001b[39;49m\u001b[43m,\u001b[49m\u001b[43m \u001b[49m\u001b[38;5;241;43m2\u001b[39;49m\u001b[43m)\u001b[49m\n\u001b[0;32m    144\u001b[0m driver\u001b[38;5;241m.\u001b[39mquit()\n",
      "Cell \u001b[1;32mIn[2], line 72\u001b[0m, in \u001b[0;36mRealtorScrapper.scrape_pages\u001b[1;34m(self, search_area, pages)\u001b[0m\n\u001b[0;32m     70\u001b[0m \u001b[38;5;28;01mdef\u001b[39;00m\u001b[38;5;250m \u001b[39m\u001b[38;5;21mscrape_pages\u001b[39m(\u001b[38;5;28mself\u001b[39m, search_area, pages):\n\u001b[0;32m     71\u001b[0m     \u001b[38;5;28mself\u001b[39m\u001b[38;5;241m.\u001b[39mdriver\u001b[38;5;241m.\u001b[39mget(\u001b[38;5;124m\"\u001b[39m\u001b[38;5;124mhttps://www.realtor.com/\u001b[39m\u001b[38;5;124m\"\u001b[39m)\n\u001b[1;32m---> 72\u001b[0m     \u001b[38;5;28;43mself\u001b[39;49m\u001b[38;5;241;43m.\u001b[39;49m\u001b[43msearch\u001b[49m\u001b[43m(\u001b[49m\u001b[43msearch_area\u001b[49m\u001b[43m)\u001b[49m\n\u001b[0;32m     73\u001b[0m     \u001b[38;5;28mself\u001b[39m\u001b[38;5;241m.\u001b[39mwait_for_load()\n\u001b[0;32m     74\u001b[0m     all_data \u001b[38;5;241m=\u001b[39m []\n",
      "Cell \u001b[1;32mIn[2], line 30\u001b[0m, in \u001b[0;36mRealtorScrapper.search\u001b[1;34m(self, search_area)\u001b[0m\n\u001b[0;32m     29\u001b[0m \u001b[38;5;28;01mdef\u001b[39;00m\u001b[38;5;250m \u001b[39m\u001b[38;5;21msearch\u001b[39m(\u001b[38;5;28mself\u001b[39m, search_area):\n\u001b[1;32m---> 30\u001b[0m     search_box \u001b[38;5;241m=\u001b[39m \u001b[38;5;28;43mself\u001b[39;49m\u001b[38;5;241;43m.\u001b[39;49m\u001b[43mdriver\u001b[49m\u001b[38;5;241;43m.\u001b[39;49m\u001b[43mfind_element\u001b[49m\u001b[43m(\u001b[49m\u001b[43mBy\u001b[49m\u001b[38;5;241;43m.\u001b[39;49m\u001b[43mID\u001b[49m\u001b[43m,\u001b[49m\u001b[43m \u001b[49m\u001b[38;5;124;43m'\u001b[39;49m\u001b[38;5;124;43msearch-bar\u001b[39;49m\u001b[38;5;124;43m'\u001b[39;49m\u001b[43m)\u001b[49m\n\u001b[0;32m     31\u001b[0m     search_box\u001b[38;5;241m.\u001b[39mclick()\n\u001b[0;32m     32\u001b[0m     search_box\u001b[38;5;241m.\u001b[39msend_keys(Keys\u001b[38;5;241m.\u001b[39mCONTROL, \u001b[38;5;124m'\u001b[39m\u001b[38;5;124ma\u001b[39m\u001b[38;5;124m'\u001b[39m)\n",
      "File \u001b[1;32me:\\web scrapper\\venv\\lib\\site-packages\\selenium\\webdriver\\remote\\webdriver.py:914\u001b[0m, in \u001b[0;36mWebDriver.find_element\u001b[1;34m(self, by, value)\u001b[0m\n\u001b[0;32m    911\u001b[0m         \u001b[38;5;28;01mraise\u001b[39;00m NoSuchElementException(\u001b[38;5;124mf\u001b[39m\u001b[38;5;124m\"\u001b[39m\u001b[38;5;124mCannot locate relative element with: \u001b[39m\u001b[38;5;132;01m{\u001b[39;00mby\u001b[38;5;241m.\u001b[39mroot\u001b[38;5;132;01m}\u001b[39;00m\u001b[38;5;124m\"\u001b[39m)\n\u001b[0;32m    912\u001b[0m     \u001b[38;5;28;01mreturn\u001b[39;00m elements[\u001b[38;5;241m0\u001b[39m]\n\u001b[1;32m--> 914\u001b[0m \u001b[38;5;28;01mreturn\u001b[39;00m \u001b[38;5;28;43mself\u001b[39;49m\u001b[38;5;241;43m.\u001b[39;49m\u001b[43mexecute\u001b[49m\u001b[43m(\u001b[49m\u001b[43mCommand\u001b[49m\u001b[38;5;241;43m.\u001b[39;49m\u001b[43mFIND_ELEMENT\u001b[49m\u001b[43m,\u001b[49m\u001b[43m \u001b[49m\u001b[43m{\u001b[49m\u001b[38;5;124;43m\"\u001b[39;49m\u001b[38;5;124;43musing\u001b[39;49m\u001b[38;5;124;43m\"\u001b[39;49m\u001b[43m:\u001b[49m\u001b[43m \u001b[49m\u001b[43mby\u001b[49m\u001b[43m,\u001b[49m\u001b[43m \u001b[49m\u001b[38;5;124;43m\"\u001b[39;49m\u001b[38;5;124;43mvalue\u001b[39;49m\u001b[38;5;124;43m\"\u001b[39;49m\u001b[43m:\u001b[49m\u001b[43m \u001b[49m\u001b[43mvalue\u001b[49m\u001b[43m}\u001b[49m\u001b[43m)\u001b[49m[\u001b[38;5;124m\"\u001b[39m\u001b[38;5;124mvalue\u001b[39m\u001b[38;5;124m\"\u001b[39m]\n",
      "File \u001b[1;32me:\\web scrapper\\venv\\lib\\site-packages\\selenium\\webdriver\\remote\\webdriver.py:447\u001b[0m, in \u001b[0;36mWebDriver.execute\u001b[1;34m(self, driver_command, params)\u001b[0m\n\u001b[0;32m    445\u001b[0m response \u001b[38;5;241m=\u001b[39m \u001b[38;5;28mself\u001b[39m\u001b[38;5;241m.\u001b[39mcommand_executor\u001b[38;5;241m.\u001b[39mexecute(driver_command, params)\n\u001b[0;32m    446\u001b[0m \u001b[38;5;28;01mif\u001b[39;00m response:\n\u001b[1;32m--> 447\u001b[0m     \u001b[38;5;28;43mself\u001b[39;49m\u001b[38;5;241;43m.\u001b[39;49m\u001b[43merror_handler\u001b[49m\u001b[38;5;241;43m.\u001b[39;49m\u001b[43mcheck_response\u001b[49m\u001b[43m(\u001b[49m\u001b[43mresponse\u001b[49m\u001b[43m)\u001b[49m\n\u001b[0;32m    448\u001b[0m     response[\u001b[38;5;124m\"\u001b[39m\u001b[38;5;124mvalue\u001b[39m\u001b[38;5;124m\"\u001b[39m] \u001b[38;5;241m=\u001b[39m \u001b[38;5;28mself\u001b[39m\u001b[38;5;241m.\u001b[39m_unwrap_value(response\u001b[38;5;241m.\u001b[39mget(\u001b[38;5;124m\"\u001b[39m\u001b[38;5;124mvalue\u001b[39m\u001b[38;5;124m\"\u001b[39m, \u001b[38;5;28;01mNone\u001b[39;00m))\n\u001b[0;32m    449\u001b[0m     \u001b[38;5;28;01mreturn\u001b[39;00m response\n",
      "File \u001b[1;32me:\\web scrapper\\venv\\lib\\site-packages\\selenium\\webdriver\\remote\\errorhandler.py:232\u001b[0m, in \u001b[0;36mErrorHandler.check_response\u001b[1;34m(self, response)\u001b[0m\n\u001b[0;32m    230\u001b[0m         alert_text \u001b[38;5;241m=\u001b[39m value[\u001b[38;5;124m\"\u001b[39m\u001b[38;5;124malert\u001b[39m\u001b[38;5;124m\"\u001b[39m]\u001b[38;5;241m.\u001b[39mget(\u001b[38;5;124m\"\u001b[39m\u001b[38;5;124mtext\u001b[39m\u001b[38;5;124m\"\u001b[39m)\n\u001b[0;32m    231\u001b[0m     \u001b[38;5;28;01mraise\u001b[39;00m exception_class(message, screen, stacktrace, alert_text)  \u001b[38;5;66;03m# type: ignore[call-arg]  # mypy is not smart enough here\u001b[39;00m\n\u001b[1;32m--> 232\u001b[0m \u001b[38;5;28;01mraise\u001b[39;00m exception_class(message, screen, stacktrace)\n",
      "\u001b[1;31mNoSuchElementException\u001b[0m: Message: no such element: Unable to locate element: {\"method\":\"css selector\",\"selector\":\"[id=\"search-bar\"]\"}\n  (Session info: chrome=137.0.7151.120); For documentation on this error, please visit: https://www.selenium.dev/documentation/webdriver/troubleshooting/errors#no-such-element-exception\nStacktrace:\n\tGetHandleVerifier [0x0x813b03+62899]\n\tGetHandleVerifier [0x0x813b44+62964]\n\t(No symbol) [0x0x6410f3]\n\t(No symbol) [0x0x68980e]\n\t(No symbol) [0x0x689bab]\n\t(No symbol) [0x0x6d25c2]\n\t(No symbol) [0x0x6ae554]\n\t(No symbol) [0x0x6cfd81]\n\t(No symbol) [0x0x6ae306]\n\t(No symbol) [0x0x67d670]\n\t(No symbol) [0x0x67e4e4]\n\tGetHandleVerifier [0x0xa74793+2556483]\n\tGetHandleVerifier [0x0xa6fd02+2537394]\n\tGetHandleVerifier [0x0x83a2fa+220586]\n\tGetHandleVerifier [0x0x82aae8+157080]\n\tGetHandleVerifier [0x0x83141d+184013]\n\tGetHandleVerifier [0x0x81ba68+95512]\n\tGetHandleVerifier [0x0x81bc10+95936]\n\tGetHandleVerifier [0x0x806b5a+9738]\n\tBaseThreadInitThunk [0x0x75f85d49+25]\n\tRtlInitializeExceptionChain [0x0x7735d09b+107]\n\tRtlGetAppContainerNamedObjectPath [0x0x7735d021+561]\n"
     ]
    },
    {
     "ename": "",
     "evalue": "",
     "output_type": "error",
     "traceback": [
      "\u001b[1;31mThe Kernel crashed while executing code in the current cell or a previous cell. \n",
      "\u001b[1;31mPlease review the code in the cell(s) to identify a possible cause of the failure. \n",
      "\u001b[1;31mClick <a href='https://aka.ms/vscodeJupyterKernelCrash'>here</a> for more info. \n",
      "\u001b[1;31mView Jupyter <a href='command:jupyter.viewOutput'>log</a> for further details."
     ]
    }
   ],
   "source": [
    "import os, time, random\n",
    "import undetected_chromedriver as uc\n",
    "from selenium.webdriver.common.by import By\n",
    "from selenium.webdriver.common.keys import Keys\n",
    "from selenium.webdriver.chrome.service import Service\n",
    "from selenium.webdriver.support.ui import WebDriverWait\n",
    "from selenium.webdriver.support import expected_conditions as EC\n",
    "from dataclasses import dataclass\n",
    "from bs4 import BeautifulSoup\n",
    "\n",
    "# Persistent profile folder\n",
    "PROFILE_PATH = os.path.abspath(\"chrome_profile\")\n",
    "\n",
    "@dataclass\n",
    "class RealtorScrapperConfig:\n",
    "    PROFILE_PATH: str = PROFILE_PATH\n",
    "\n",
    "class RealtorScrapper:\n",
    "\n",
    "    def __init__(self, driver: uc.Chrome):\n",
    "        self.driver = driver\n",
    "\n",
    "    @staticmethod\n",
    "    def humanLikeInput(text, field):\n",
    "        for char in text:\n",
    "            field.send_keys(char)\n",
    "            time.sleep(random.uniform(0.1, 0.3))\n",
    "\n",
    "    def search(self, search_area):\n",
    "        search_box = self.driver.find_element(By.ID, 'search-bar')\n",
    "        search_box.click()\n",
    "        search_box.send_keys(Keys.CONTROL, 'a')\n",
    "        search_box.send_keys(Keys.BACKSPACE)\n",
    "        self.humanLikeInput(search_area, search_box)\n",
    "        search_box.send_keys(Keys.RETURN)\n",
    "\n",
    "    def wait_for_load(self):\n",
    "        time.sleep(5)\n",
    "        self.driver.execute_script(\"window.scrollTo(0, document.body.scrollHeight);\")\n",
    "        time.sleep(2)\n",
    "        self.driver.execute_script(\"window.scrollTo(0, document.body.scrollHeight/2);\")\n",
    "        time.sleep(2)\n",
    "        self.driver.execute_script(\"window.scrollTo(0, 0);\")\n",
    "        time.sleep(2)\n",
    "\n",
    "    def get_all_estate_card_data(self):\n",
    "        soup = BeautifulSoup(self.driver.page_source, 'html.parser')\n",
    "        container = soup.find('section', {'class': 'PropertiesList_propertiesContainer__60NpL'})\n",
    "        if not container:\n",
    "            print(\"❌ No container found.\")\n",
    "            return []\n",
    "\n",
    "        house_cards = container.select('.BasePropertyCard_propertyCardWrap__gtWK6')\n",
    "        print(f\"✅ Found {len(house_cards)} cards\")\n",
    "\n",
    "        res = []\n",
    "        for card in house_cards:\n",
    "            image_url = None\n",
    "            source = card.find('source')\n",
    "            if source and source.get('srcset'):\n",
    "                image_url = source['srcset'].split(',')[0].strip().split()[0]\n",
    "            if not image_url:\n",
    "                img = card.find('img')\n",
    "                if img and img.get('src'):\n",
    "                    image_url = img['src']\n",
    "            if image_url:\n",
    "                res.append(image_url)\n",
    "        return res\n",
    "\n",
    "    def scrape_pages(self, search_area, pages):\n",
    "        self.driver.get(\"https://www.realtor.com/\")\n",
    "        self.search(search_area)\n",
    "        self.wait_for_load()\n",
    "        all_data = []\n",
    "\n",
    "        for page in range(pages):\n",
    "            try:\n",
    "                print(f\"📄 Scraping page {page + 1}\")\n",
    "                all_data.extend(self.get_all_estate_card_data())\n",
    "                next_btn = WebDriverWait(self.driver, 5).until(\n",
    "                    EC.element_to_be_clickable((By.CSS_SELECTOR, \".next-link:not(.disable)\"))\n",
    "                )\n",
    "                next_btn.click()\n",
    "                time.sleep(3)\n",
    "            except Exception as e:\n",
    "                print(\"❌ No more pages or error:\", e)\n",
    "                break\n",
    "\n",
    "        print(f\"\\n📊 Total images found: {len(all_data)}\")\n",
    "        return all_data\n",
    "\n",
    "def is_blocked(driver):\n",
    "    page = driver.page_source.lower()\n",
    "    return any(word in page for word in [\"access denied\", \"captcha\", \"verify\"])\n",
    "\n",
    "def warmup_and_create_profile():\n",
    "    print(\"⚠️ Profile not found. Starting warm-up...\")\n",
    "    warm_options = uc.ChromeOptions()\n",
    "    warm_options.add_argument(\"--headless=new\")  # headless mode to not annoy user\n",
    "    warm_options.add_argument(\"--disable-blink-features=AutomationControlled\")\n",
    "    warm_options.add_argument(\"--no-sandbox\")\n",
    "    warm_options.add_argument(\"--disable-gpu\")\n",
    "    warm_options.add_argument(\"--disable-dev-shm-usage\")\n",
    "    warm_options.add_argument(f\"--user-data-dir={PROFILE_PATH}\")\n",
    "    driver = uc.Chrome(options=warm_options)\n",
    "\n",
    "    driver.get(\"https://www.google.com\")\n",
    "    time.sleep(3)\n",
    "    driver.execute_script(\"\"\"\n",
    "        let btn = document.createElement('button');\n",
    "        btn.innerText = 'Click Me';\n",
    "        btn.id = 'myBtn';\n",
    "        btn.onclick = function() {\n",
    "            window.open('https://www.realtor.com', '_blank');\n",
    "        };\n",
    "        document.body.appendChild(btn);\n",
    "    \"\"\")\n",
    "    time.sleep(2)\n",
    "    driver.find_element(By.ID, \"myBtn\").click()\n",
    "    time.sleep(3)\n",
    "    driver.switch_to.window(driver.window_handles[1])\n",
    "    time.sleep(5)\n",
    "\n",
    "    print(\"✅ Profile warmed and saved at:\", PROFILE_PATH)\n",
    "    driver.quit()\n",
    "\n",
    "def start_scraping():\n",
    "    options = uc.ChromeOptions()\n",
    "    options.add_argument(f\"--user-data-dir={PROFILE_PATH}\")\n",
    "    options.add_argument(\"--start-maximized\")\n",
    "    options.add_argument(\"--disable-blink-features=AutomationControlled\")\n",
    "\n",
    "    driver = uc.Chrome(service=Service(\"./chromedriver.exe\"), options=options)\n",
    "    driver.get(\"https://www.realtor.com\")\n",
    "    time.sleep(5)\n",
    "\n",
    "    if is_blocked(driver):\n",
    "        print(\"🚫 Blocked, aborting...\")\n",
    "        driver.quit()\n",
    "        return\n",
    "\n",
    "    scraper = RealtorScrapper(driver)\n",
    "    scraper.scrape_pages(\"New York\", 2)\n",
    "    driver.quit()\n",
    "\n",
    "def main():\n",
    "    if not os.path.exists(PROFILE_PATH):\n",
    "        warmup_and_create_profile()\n",
    "    start_scraping()\n",
    "\n",
    "if __name__ == \"__main__\":\n",
    "    main()\n"
   ]
  },
  {
   "cell_type": "code",
   "execution_count": 2,
   "id": "caf78efc",
   "metadata": {},
   "outputs": [],
   "source": [
    "driver.refresh()"
   ]
  },
  {
   "cell_type": "code",
   "execution_count": 2,
   "id": "b0e8c3b4",
   "metadata": {},
   "outputs": [
    {
     "name": "stdout",
     "output_type": "stream",
     "text": [
      "[INFO] Page title: Realtor.com® | Homes for Sale, Apartments & Houses for Rent\n"
     ]
    }
   ],
   "source": [
    "import undetected_chromedriver as uc\n",
    "import time\n",
    "import os\n",
    "\n",
    "# Create a folder to store Chrome profile\n",
    "PROFILE_PATH = os.path.abspath(\"chrome_profile\")\n",
    "\n",
    "options = uc.ChromeOptions()\n",
    "options.add_argument(f\"--user-data-dir={PROFILE_PATH}\")  # <-- Persistent profile path\n",
    "options.add_argument(\"--start-maximized\")\n",
    "options.add_argument(\"--disable-blink-features=AutomationControlled\")\n",
    "\n",
    "driver = uc.Chrome(options=options, headless=False)\n",
    "\n",
    "# Step 1: Start neutral site (Google)\n",
    "driver.get(\"https://www.google.com\")\n",
    "time.sleep(3)\n",
    "\n",
    "# Step 2: Go to Realtor\n",
    "driver.get(\"https://www.realtor.com\")\n",
    "# time.sleep(10)\n",
    "\n",
    "# # Step 3: Simulate small human-like actions (scrolling)\n",
    "# driver.execute_script(\"window.scrollTo(0, document.body.scrollHeight/2);\")\n",
    "# time.sleep(2)\n",
    "# driver.execute_script(\"window.scrollTo(0, document.body.scrollHeight);\")\n",
    "# time.sleep(2)\n",
    "\n",
    "input(\"[INFO] Press Enter to quit...\")\n",
    "print(\"[INFO] Page title:\", driver.title)\n",
    "# driver.quit()\n"
   ]
  },
  {
   "cell_type": "code",
   "execution_count": null,
   "id": "40060f19",
   "metadata": {},
   "outputs": [
    {
     "ename": "RuntimeError",
     "evalue": "asyncio.run() cannot be called from a running event loop",
     "output_type": "error",
     "traceback": [
      "\u001b[1;31m---------------------------------------------------------------------------\u001b[0m",
      "\u001b[1;31mRuntimeError\u001b[0m                              Traceback (most recent call last)",
      "Cell \u001b[1;32mIn[2], line 37\u001b[0m\n\u001b[0;32m     34\u001b[0m         \u001b[38;5;28;01mawait\u001b[39;00m asyncio\u001b[38;5;241m.\u001b[39msleep(\u001b[38;5;241m10\u001b[39m)\n\u001b[0;32m     35\u001b[0m         \u001b[38;5;28;01mawait\u001b[39;00m browser\u001b[38;5;241m.\u001b[39mclose()\n\u001b[1;32m---> 37\u001b[0m \u001b[43masyncio\u001b[49m\u001b[38;5;241;43m.\u001b[39;49m\u001b[43mrun\u001b[49m\u001b[43m(\u001b[49m\u001b[43mmain\u001b[49m\u001b[43m(\u001b[49m\u001b[43m)\u001b[49m\u001b[43m)\u001b[49m\n",
      "File \u001b[1;32me:\\web scrapper\\venv\\lib\\asyncio\\runners.py:33\u001b[0m, in \u001b[0;36mrun\u001b[1;34m(main, debug)\u001b[0m\n\u001b[0;32m      9\u001b[0m \u001b[38;5;250m\u001b[39m\u001b[38;5;124;03m\"\"\"Execute the coroutine and return the result.\u001b[39;00m\n\u001b[0;32m     10\u001b[0m \n\u001b[0;32m     11\u001b[0m \u001b[38;5;124;03mThis function runs the passed coroutine, taking care of\u001b[39;00m\n\u001b[1;32m   (...)\u001b[0m\n\u001b[0;32m     30\u001b[0m \u001b[38;5;124;03m    asyncio.run(main())\u001b[39;00m\n\u001b[0;32m     31\u001b[0m \u001b[38;5;124;03m\"\"\"\u001b[39;00m\n\u001b[0;32m     32\u001b[0m \u001b[38;5;28;01mif\u001b[39;00m events\u001b[38;5;241m.\u001b[39m_get_running_loop() \u001b[38;5;129;01mis\u001b[39;00m \u001b[38;5;129;01mnot\u001b[39;00m \u001b[38;5;28;01mNone\u001b[39;00m:\n\u001b[1;32m---> 33\u001b[0m     \u001b[38;5;28;01mraise\u001b[39;00m \u001b[38;5;167;01mRuntimeError\u001b[39;00m(\n\u001b[0;32m     34\u001b[0m         \u001b[38;5;124m\"\u001b[39m\u001b[38;5;124masyncio.run() cannot be called from a running event loop\u001b[39m\u001b[38;5;124m\"\u001b[39m)\n\u001b[0;32m     36\u001b[0m \u001b[38;5;28;01mif\u001b[39;00m \u001b[38;5;129;01mnot\u001b[39;00m coroutines\u001b[38;5;241m.\u001b[39miscoroutine(main):\n\u001b[0;32m     37\u001b[0m     \u001b[38;5;28;01mraise\u001b[39;00m \u001b[38;5;167;01mValueError\u001b[39;00m(\u001b[38;5;124m\"\u001b[39m\u001b[38;5;124ma coroutine was expected, got \u001b[39m\u001b[38;5;132;01m{!r}\u001b[39;00m\u001b[38;5;124m\"\u001b[39m\u001b[38;5;241m.\u001b[39mformat(main))\n",
      "\u001b[1;31mRuntimeError\u001b[0m: asyncio.run() cannot be called from a running event loop"
     ]
    }
   ],
   "source": [
    "import asyncio\n",
    "from playwright.async_api import async_playwright\n",
    "import os\n",
    "\n",
    "PROFILE_PATH = os.path.abspath(\"chrome_profile\")\n",
    "\n",
    "async def main():\n",
    "    async with async_playwright() as p:\n",
    "        browser = await p.chromium.launch_persistent_context(\n",
    "            PROFILE_PATH,\n",
    "            headless=False,\n",
    "            args=[\n",
    "                \"--start-maximized\",\n",
    "                \"--disable-blink-features=AutomationControlled\",\n",
    "            ]\n",
    "        )\n",
    "\n",
    "        page = await browser.new_page()\n",
    "        await page.goto(\"https://www.realtor.com\", timeout=60000)\n",
    "        await page.screenshot(path=\"1.png\")\n",
    "\n",
    "        # Scroll halfway down\n",
    "        await page.evaluate(\"window.scrollTo(0, document.body.scrollHeight / 2);\")\n",
    "        await asyncio.sleep(2)\n",
    "\n",
    "        # Scroll to the bottom\n",
    "        await page.evaluate(\"window.scrollTo(0, document.body.scrollHeight);\")\n",
    "        await asyncio.sleep(2)\n",
    "\n",
    "        await page.screenshot(path=\"2.png\")\n",
    "        print(\"[INFO] Page title:\", await page.title())\n",
    "\n",
    "        # Keep browser open if needed\n",
    "        await asyncio.sleep(10)\n",
    "        await browser.close()\n",
    "\n",
    "asyncio.run(main())\n"
   ]
  },
  {
   "cell_type": "code",
   "execution_count": 4,
   "id": "808b0556",
   "metadata": {},
   "outputs": [
    {
     "name": "stdout",
     "output_type": "stream",
     "text": [
      "hi\n"
     ]
    }
   ],
   "source": [
    "\n",
    "import undetected_chromedriver as uc\n",
    "import time, os, random\n",
    "from selenium.webdriver.chrome.service import Service\n",
    "from selenium.webdriver.common.by import By\n",
    "from selenium.webdriver.common.keys import Keys\n",
    "from selenium.webdriver.support.ui import WebDriverWait\n",
    "from selenium.webdriver.support import expected_conditions as EC\n",
    "from dataclasses import dataclass\n",
    "# Persistent profile\n",
    "PROFILE_PATH = os.path.abspath(\"chrome_profile\")\n",
    "\n",
    "@dataclass\n",
    "class RealtorScrapperConfig:\n",
    "    # Persistent profile\n",
    "    PROFILE_PATH = os.path.abspath(\"chrome_profile\")\n",
    "\n",
    "\n",
    "class RealtorScrapper:\n",
    "    \n",
    "    def __init__(self,driver:uc.Chrome) -> None:\n",
    "        self.config = RealtorScrapperConfig()\n",
    "        self.driver = driver\n",
    "    \n",
    "    @staticmethod\n",
    "    def humanLikeInput(text,field):\n",
    "        for char in text:\n",
    "            field.send_keys(char)\n",
    "            time.sleep(random.uniform(0.2,0.5))    \n",
    "    \n",
    "    def search(self,search_area):\n",
    "        search_box=self.driver.find_element(By.ID,'search-bar')\n",
    "        search_box.click()\n",
    "        search_box.send_keys(Keys.CONTROL, 'a') \n",
    "        search_box.send_keys(Keys.CONTROL, 't') # Select all text\n",
    "        time.sleep(0.5)\n",
    "        search_box.send_keys(Keys.BACKSPACE)     # Delete selected text\n",
    "        time.sleep(1)\n",
    "\n",
    "        self.humanLikeInput(search_area,search_box)\n",
    "        search_box.send_keys(Keys.RETURN)\n",
    "    \n",
    "    def wait(self):\n",
    "        try:\n",
    "            time.sleep(3)\n",
    "            self.driver.execute_script(\"window.scrollTo(0, document.body.scrollHeight);\")\n",
    "            print(\"hi\")\n",
    "            time.sleep(3)\n",
    "            self.driver.execute_script(\"window.scrollTo(0, document.body.scrollHeight/2);\")\n",
    "            time.sleep(3)\n",
    "            self.driver.execute_script(\"window.scrollTo(document.body.scrollHeight,0);\")\n",
    "            time.sleep(3)\n",
    "            # ⏳ Wait for main property cards or a key container to load\n",
    "        except Exception:\n",
    "            print(\"⚠️ Timeout: Listings may not be fully loaded.\")\n",
    "                 \n",
    "            \n",
    "    def Scrap(self,search_area):\n",
    "        # Open target site\n",
    "        self.driver.get(\"https://www.realtor.com\")\n",
    "        self.search(search_area)\n",
    "        self.wait()\n",
    "\n",
    "def main():\n",
    "    \n",
    "    try:        \n",
    "        options = uc.ChromeOptions()\n",
    "        options.add_argument(f\"--user-data-dir={PROFILE_PATH}\")\n",
    "        options.add_argument(\"--start-maximized\")\n",
    "        options.add_argument(\"--disable-blink-features=AutomationControlled\")\n",
    "\n",
    "        driver = uc.Chrome(service=Service(\"./chromedriver.exe\"), options=options)\n",
    "\n",
    "        scrapper_obj = RealtorScrapper(driver)\n",
    "        scrapper_obj.Scrap(\"New York\")\n",
    "        # Open target site\n",
    "        # driver.get(\"https://www.realtor.com\")\n",
    "\n",
    "    #     # 💡 Optional: Scroll slowly to force lazy-loaded content to load\n",
    "    #     driver.execute_script(\"window.scrollTo(0, document.body.scrollHeight / 2);\")\n",
    "    #     print(\"hi\")\n",
    "    #     time.sleep(1)\n",
    "    #     driver.execute_script(\"window.scrollTo(0, document.body.scrollHeight);\")\n",
    "    #     time.sleep(2)\n",
    "    #     # ⏳ Wait for main property cards or a key container to load\n",
    "    #     WebDriverWait(driver, 20).until(\n",
    "    #         EC.presence_of_element_located((By.CLASS_NAME, \"LazyLoad\"))\n",
    "    #     )\n",
    "    #     print(\"✅ Listings loaded.\")\n",
    "    except Exception:\n",
    "        print(\"⚠️ error\")\n",
    "\n",
    "\n",
    "    # driver.save_screenshot(\"2_loaded.png\")\n",
    "    # print(\"[INFO] Page title:\", driver.title)\n",
    "\n",
    "if __name__==\"__main__\":\n",
    "    main()"
   ]
  },
  {
   "cell_type": "code",
   "execution_count": 81,
   "id": "b7ffbe13",
   "metadata": {},
   "outputs": [
    {
     "name": "stdout",
     "output_type": "stream",
     "text": [
      "[INFO] Page title: New York Homes for Sale & Real Estate - NY Listings | Realtor.com®\n"
     ]
    }
   ],
   "source": [
    "import undetected_chromedriver as uc\n",
    "import time\n",
    "import os\n",
    "from selenium.webdriver.chrome.service import Service\n",
    "\n",
    "# Create a folder to store Chrome profile\n",
    "PROFILE_PATH = os.path.abspath(\"chrome_profile\")\n",
    "\n",
    "options = uc.ChromeOptions()\n",
    "# options.add_argument('--headless=new') \n",
    "options.add_argument(f\"--user-data-dir={PROFILE_PATH}\")  # <-- Persistent profile path\n",
    "options.add_argument(\"--start-maximized\")\n",
    "options.add_argument(\"--disable-blink-features=AutomationControlled\")\n",
    "\n",
    "driver = uc.Chrome(service=Service(\"./chromedriver.exe\"),options=options)\n",
    "\n",
    "\n",
    "driver.get(\"https://www.realtor.com/realestateandhomes-search/New-York/pg-2\")\n",
    "# time.sleep(10)\n",
    "driver.save_screenshot(\"1.png\")\n",
    "# Step 3: Simulate small human-like actions (scrolling)\n",
    "# driver.execute_script(\"window.scrollTo(0, document.body.scrollHeight/2);\")\n",
    "# time.sleep(2)\n",
    "# driver.execute_script(\"window.scrollTo(0, document.body.scrollHeight);\")\n",
    "# time.sleep(2)\n",
    "driver.save_screenshot(\"2.png\")\n",
    "\n",
    "print(\"[INFO] Page title:\", driver.title)\n",
    "\n"
   ]
  },
  {
   "cell_type": "code",
   "execution_count": 38,
   "id": "775e4ac5",
   "metadata": {},
   "outputs": [
    {
     "ename": "NoSuchElementException",
     "evalue": "Message: no such element: Unable to locate element: {\"method\":\"css selector\",\"selector\":\"[id=\"search-bar\"]\"}\n  (Session info: chrome=137.0.7151.119); For documentation on this error, please visit: https://www.selenium.dev/documentation/webdriver/troubleshooting/errors#no-such-element-exception\nStacktrace:\n\tGetHandleVerifier [0x0xa03b03+62899]\n\tGetHandleVerifier [0x0xa03b44+62964]\n\t(No symbol) [0x0x8310f3]\n\t(No symbol) [0x0x87980e]\n\t(No symbol) [0x0x879bab]\n\t(No symbol) [0x0x8c25c2]\n\t(No symbol) [0x0x89e554]\n\t(No symbol) [0x0x8bfd81]\n\t(No symbol) [0x0x89e306]\n\t(No symbol) [0x0x86d670]\n\t(No symbol) [0x0x86e4e4]\n\tGetHandleVerifier [0x0xc64793+2556483]\n\tGetHandleVerifier [0x0xc5fd02+2537394]\n\tGetHandleVerifier [0x0xa2a2fa+220586]\n\tGetHandleVerifier [0x0xa1aae8+157080]\n\tGetHandleVerifier [0x0xa2141d+184013]\n\tGetHandleVerifier [0x0xa0ba68+95512]\n\tGetHandleVerifier [0x0xa0bc10+95936]\n\tGetHandleVerifier [0x0x9f6b5a+9738]\n\tBaseThreadInitThunk [0x0x76dc5d49+25]\n\tRtlInitializeExceptionChain [0x0x77b3d09b+107]\n\tRtlGetAppContainerNamedObjectPath [0x0x77b3d021+561]\n",
     "output_type": "error",
     "traceback": [
      "\u001b[1;31m---------------------------------------------------------------------------\u001b[0m",
      "\u001b[1;31mNoSuchElementException\u001b[0m                    Traceback (most recent call last)",
      "Cell \u001b[1;32mIn[38], line 3\u001b[0m\n\u001b[0;32m      1\u001b[0m \u001b[38;5;28;01mfrom\u001b[39;00m\u001b[38;5;250m \u001b[39m\u001b[38;5;21;01mselenium\u001b[39;00m\u001b[38;5;21;01m.\u001b[39;00m\u001b[38;5;21;01mwebdriver\u001b[39;00m\u001b[38;5;21;01m.\u001b[39;00m\u001b[38;5;21;01mcommon\u001b[39;00m\u001b[38;5;21;01m.\u001b[39;00m\u001b[38;5;21;01mby\u001b[39;00m\u001b[38;5;250m \u001b[39m\u001b[38;5;28;01mimport\u001b[39;00m By\n\u001b[0;32m      2\u001b[0m \u001b[38;5;28;01mfrom\u001b[39;00m\u001b[38;5;250m \u001b[39m\u001b[38;5;21;01mselenium\u001b[39;00m\u001b[38;5;21;01m.\u001b[39;00m\u001b[38;5;21;01mwebdriver\u001b[39;00m\u001b[38;5;21;01m.\u001b[39;00m\u001b[38;5;21;01mcommon\u001b[39;00m\u001b[38;5;21;01m.\u001b[39;00m\u001b[38;5;21;01mkeys\u001b[39;00m\u001b[38;5;250m \u001b[39m\u001b[38;5;28;01mimport\u001b[39;00m Keys\n\u001b[1;32m----> 3\u001b[0m seach_btn \u001b[38;5;241m=\u001b[39m \u001b[43mdriver\u001b[49m\u001b[38;5;241;43m.\u001b[39;49m\u001b[43mfind_element\u001b[49m\u001b[43m(\u001b[49m\u001b[43mBy\u001b[49m\u001b[38;5;241;43m.\u001b[39;49m\u001b[43mID\u001b[49m\u001b[43m,\u001b[49m\u001b[38;5;124;43m'\u001b[39;49m\u001b[38;5;124;43msearch-bar\u001b[39;49m\u001b[38;5;124;43m'\u001b[39;49m\u001b[43m)\u001b[49m\n\u001b[0;32m      4\u001b[0m seach_btn\u001b[38;5;241m.\u001b[39mclear()\n",
      "File \u001b[1;32me:\\web scrapper\\venv\\lib\\site-packages\\selenium\\webdriver\\remote\\webdriver.py:914\u001b[0m, in \u001b[0;36mWebDriver.find_element\u001b[1;34m(self, by, value)\u001b[0m\n\u001b[0;32m    911\u001b[0m         \u001b[38;5;28;01mraise\u001b[39;00m NoSuchElementException(\u001b[38;5;124mf\u001b[39m\u001b[38;5;124m\"\u001b[39m\u001b[38;5;124mCannot locate relative element with: \u001b[39m\u001b[38;5;132;01m{\u001b[39;00mby\u001b[38;5;241m.\u001b[39mroot\u001b[38;5;132;01m}\u001b[39;00m\u001b[38;5;124m\"\u001b[39m)\n\u001b[0;32m    912\u001b[0m     \u001b[38;5;28;01mreturn\u001b[39;00m elements[\u001b[38;5;241m0\u001b[39m]\n\u001b[1;32m--> 914\u001b[0m \u001b[38;5;28;01mreturn\u001b[39;00m \u001b[38;5;28;43mself\u001b[39;49m\u001b[38;5;241;43m.\u001b[39;49m\u001b[43mexecute\u001b[49m\u001b[43m(\u001b[49m\u001b[43mCommand\u001b[49m\u001b[38;5;241;43m.\u001b[39;49m\u001b[43mFIND_ELEMENT\u001b[49m\u001b[43m,\u001b[49m\u001b[43m \u001b[49m\u001b[43m{\u001b[49m\u001b[38;5;124;43m\"\u001b[39;49m\u001b[38;5;124;43musing\u001b[39;49m\u001b[38;5;124;43m\"\u001b[39;49m\u001b[43m:\u001b[49m\u001b[43m \u001b[49m\u001b[43mby\u001b[49m\u001b[43m,\u001b[49m\u001b[43m \u001b[49m\u001b[38;5;124;43m\"\u001b[39;49m\u001b[38;5;124;43mvalue\u001b[39;49m\u001b[38;5;124;43m\"\u001b[39;49m\u001b[43m:\u001b[49m\u001b[43m \u001b[49m\u001b[43mvalue\u001b[49m\u001b[43m}\u001b[49m\u001b[43m)\u001b[49m[\u001b[38;5;124m\"\u001b[39m\u001b[38;5;124mvalue\u001b[39m\u001b[38;5;124m\"\u001b[39m]\n",
      "File \u001b[1;32me:\\web scrapper\\venv\\lib\\site-packages\\selenium\\webdriver\\remote\\webdriver.py:447\u001b[0m, in \u001b[0;36mWebDriver.execute\u001b[1;34m(self, driver_command, params)\u001b[0m\n\u001b[0;32m    445\u001b[0m response \u001b[38;5;241m=\u001b[39m \u001b[38;5;28mself\u001b[39m\u001b[38;5;241m.\u001b[39mcommand_executor\u001b[38;5;241m.\u001b[39mexecute(driver_command, params)\n\u001b[0;32m    446\u001b[0m \u001b[38;5;28;01mif\u001b[39;00m response:\n\u001b[1;32m--> 447\u001b[0m     \u001b[38;5;28;43mself\u001b[39;49m\u001b[38;5;241;43m.\u001b[39;49m\u001b[43merror_handler\u001b[49m\u001b[38;5;241;43m.\u001b[39;49m\u001b[43mcheck_response\u001b[49m\u001b[43m(\u001b[49m\u001b[43mresponse\u001b[49m\u001b[43m)\u001b[49m\n\u001b[0;32m    448\u001b[0m     response[\u001b[38;5;124m\"\u001b[39m\u001b[38;5;124mvalue\u001b[39m\u001b[38;5;124m\"\u001b[39m] \u001b[38;5;241m=\u001b[39m \u001b[38;5;28mself\u001b[39m\u001b[38;5;241m.\u001b[39m_unwrap_value(response\u001b[38;5;241m.\u001b[39mget(\u001b[38;5;124m\"\u001b[39m\u001b[38;5;124mvalue\u001b[39m\u001b[38;5;124m\"\u001b[39m, \u001b[38;5;28;01mNone\u001b[39;00m))\n\u001b[0;32m    449\u001b[0m     \u001b[38;5;28;01mreturn\u001b[39;00m response\n",
      "File \u001b[1;32me:\\web scrapper\\venv\\lib\\site-packages\\selenium\\webdriver\\remote\\errorhandler.py:232\u001b[0m, in \u001b[0;36mErrorHandler.check_response\u001b[1;34m(self, response)\u001b[0m\n\u001b[0;32m    230\u001b[0m         alert_text \u001b[38;5;241m=\u001b[39m value[\u001b[38;5;124m\"\u001b[39m\u001b[38;5;124malert\u001b[39m\u001b[38;5;124m\"\u001b[39m]\u001b[38;5;241m.\u001b[39mget(\u001b[38;5;124m\"\u001b[39m\u001b[38;5;124mtext\u001b[39m\u001b[38;5;124m\"\u001b[39m)\n\u001b[0;32m    231\u001b[0m     \u001b[38;5;28;01mraise\u001b[39;00m exception_class(message, screen, stacktrace, alert_text)  \u001b[38;5;66;03m# type: ignore[call-arg]  # mypy is not smart enough here\u001b[39;00m\n\u001b[1;32m--> 232\u001b[0m \u001b[38;5;28;01mraise\u001b[39;00m exception_class(message, screen, stacktrace)\n",
      "\u001b[1;31mNoSuchElementException\u001b[0m: Message: no such element: Unable to locate element: {\"method\":\"css selector\",\"selector\":\"[id=\"search-bar\"]\"}\n  (Session info: chrome=137.0.7151.119); For documentation on this error, please visit: https://www.selenium.dev/documentation/webdriver/troubleshooting/errors#no-such-element-exception\nStacktrace:\n\tGetHandleVerifier [0x0xa03b03+62899]\n\tGetHandleVerifier [0x0xa03b44+62964]\n\t(No symbol) [0x0x8310f3]\n\t(No symbol) [0x0x87980e]\n\t(No symbol) [0x0x879bab]\n\t(No symbol) [0x0x8c25c2]\n\t(No symbol) [0x0x89e554]\n\t(No symbol) [0x0x8bfd81]\n\t(No symbol) [0x0x89e306]\n\t(No symbol) [0x0x86d670]\n\t(No symbol) [0x0x86e4e4]\n\tGetHandleVerifier [0x0xc64793+2556483]\n\tGetHandleVerifier [0x0xc5fd02+2537394]\n\tGetHandleVerifier [0x0xa2a2fa+220586]\n\tGetHandleVerifier [0x0xa1aae8+157080]\n\tGetHandleVerifier [0x0xa2141d+184013]\n\tGetHandleVerifier [0x0xa0ba68+95512]\n\tGetHandleVerifier [0x0xa0bc10+95936]\n\tGetHandleVerifier [0x0x9f6b5a+9738]\n\tBaseThreadInitThunk [0x0x76dc5d49+25]\n\tRtlInitializeExceptionChain [0x0x77b3d09b+107]\n\tRtlGetAppContainerNamedObjectPath [0x0x77b3d021+561]\n"
     ]
    }
   ],
   "source": [
    "from selenium.webdriver.common.by import By\n",
    "from selenium.webdriver.common.keys import Keys\n",
    "seach_btn = driver.find_element(By.ID,'search-bar')\n",
    "seach_btn.clear()"
   ]
  },
  {
   "cell_type": "code",
   "execution_count": 4,
   "id": "3c226c76",
   "metadata": {},
   "outputs": [],
   "source": [
    "seach_btn.send_keys(\"New York\",Keys.RETURN)"
   ]
  },
  {
   "cell_type": "code",
   "execution_count": 68,
   "id": "365f3788",
   "metadata": {},
   "outputs": [
    {
     "data": {
      "text/plain": [
       "'https://www.realtor.com/realestateandhomes-search/New-York/pg-201'"
      ]
     },
     "execution_count": 68,
     "metadata": {},
     "output_type": "execute_result"
    }
   ],
   "source": [
    "driver.current_url"
   ]
  },
  {
   "cell_type": "code",
   "execution_count": 40,
   "id": "2e47c282",
   "metadata": {},
   "outputs": [],
   "source": [
    "driver.execute_script(\"window.scrollTo(0, document.body.scrollHeight);\")"
   ]
  },
  {
   "cell_type": "code",
   "execution_count": 47,
   "id": "808608a3",
   "metadata": {},
   "outputs": [
    {
     "data": {
      "text/plain": [
       "[<undetected_chromedriver.webelement.WebElement (session=\"9fdf32ec924db5c7e41dceec79400c02\", element=\"f.E22E98A2975AB07B25CC95C2E9A55FB8.d.2B272B285C0D5FCAA79B3221FECAE011.e.122\")>]"
      ]
     },
     "execution_count": 47,
     "metadata": {},
     "output_type": "execute_result"
    }
   ],
   "source": [
    "next_btn = driver.find_elements(By.CLASS_NAME,'next-link')\n",
    "next_btn"
   ]
  },
  {
   "cell_type": "code",
   "execution_count": 48,
   "id": "b83a4aaa",
   "metadata": {},
   "outputs": [],
   "source": [
    "next_btn[0].click()"
   ]
  },
  {
   "cell_type": "code",
   "execution_count": null,
   "id": "cc738488",
   "metadata": {},
   "outputs": [
    {
     "name": "stdout",
     "output_type": "stream",
     "text": [
      "Doing\n",
      "Yes Click\n",
      "Doing\n",
      "Yes Click\n",
      "Blocked by another element, trying to scroll and retry...\n",
      "Doing\n",
      "Yes Click\n",
      "Doing\n",
      "Yes Click\n",
      "Doing\n",
      "Yes Click\n",
      "Doing\n",
      "Yes Click\n",
      "Doing\n",
      "Yes Click\n",
      "Page did not change, assuming end of pagination.\n"
     ]
    }
   ],
   "source": [
    "from selenium.webdriver.support.ui import WebDriverWait\n",
    "from selenium.webdriver.support import expected_conditions as EC\n",
    "from selenium.common.exceptions import TimeoutException, ElementClickInterceptedException\n",
    "import time\n",
    "\n",
    "while True:\n",
    "    try:\n",
    "        print()\n",
    "        # Wait up to 5 seconds for the button to be clickable\n",
    "        next_btn = WebDriverWait(driver, 5).until(\n",
    "            EC.element_to_be_clickable((By.CLASS_NAME, 'next-link'))\n",
    "        )\n",
    "        print(\"Yes Click\")\n",
    "        next_btn.click()\n",
    "        time.sleep(2)\n",
    "    except TimeoutException:\n",
    "        print(\"END (Button not clickable or not present)\")\n",
    "        break\n",
    "    except ElementClickInterceptedException:\n",
    "        print(\"Button was blocked by another element.\")\n",
    "        time.sleep(2)\n"
   ]
  },
  {
   "cell_type": "code",
   "execution_count": null,
   "id": "472db67e",
   "metadata": {},
   "outputs": [],
   "source": [
    "next_btn=driver.find_elements(By.CLASS_NAME,'next-link')\n",
    " "
   ]
  },
  {
   "cell_type": "code",
   "execution_count": 67,
   "id": "114ed7bb",
   "metadata": {},
   "outputs": [],
   "source": [
    "next_btn[0].click_safe()"
   ]
  },
  {
   "cell_type": "code",
   "execution_count": 13,
   "id": "0b175e53",
   "metadata": {},
   "outputs": [],
   "source": [
    "cards = driver.find_elements(By.CLASS_NAME,'ads-srp-tile')"
   ]
  },
  {
   "cell_type": "code",
   "execution_count": 14,
   "id": "7919d8f2",
   "metadata": {},
   "outputs": [
    {
     "data": {
      "text/plain": [
       "9"
      ]
     },
     "execution_count": 14,
     "metadata": {},
     "output_type": "execute_result"
    }
   ],
   "source": [
    "len(cards)\n"
   ]
  },
  {
   "cell_type": "code",
   "execution_count": 82,
   "id": "f91ac0a3",
   "metadata": {},
   "outputs": [
    {
     "data": {
      "text/plain": [
       "'https://www.realtor.com/realestateandhomes-search/New-York/pg-2'"
      ]
     },
     "execution_count": 82,
     "metadata": {},
     "output_type": "execute_result"
    }
   ],
   "source": [
    "driver.current_url"
   ]
  },
  {
   "cell_type": "code",
   "execution_count": 83,
   "id": "ad166511",
   "metadata": {},
   "outputs": [],
   "source": [
    "from bs4 import BeautifulSoup\n",
    "soup = BeautifulSoup(driver.page_source,'html.parser')"
   ]
  },
  {
   "cell_type": "code",
   "execution_count": 86,
   "id": "43ff0e08",
   "metadata": {},
   "outputs": [
    {
     "data": {
      "text/plain": [
       "55"
      ]
     },
     "execution_count": 86,
     "metadata": {},
     "output_type": "execute_result"
    }
   ],
   "source": [
    "container = soup.find('section',{'class':'PropertiesList_propertiesContainer__60NpL'})\n",
    "len(container)"
   ]
  },
  {
   "cell_type": "code",
   "execution_count": 98,
   "id": "b5dab992",
   "metadata": {},
   "outputs": [
    {
     "data": {
      "text/plain": [
       "8652"
      ]
     },
     "execution_count": 98,
     "metadata": {},
     "output_type": "execute_result"
    }
   ],
   "source": [
    "206*42\n"
   ]
  },
  {
   "cell_type": "code",
   "execution_count": 90,
   "id": "f4933fb9",
   "metadata": {},
   "outputs": [
    {
     "data": {
      "text/plain": [
       "1"
      ]
     },
     "execution_count": 90,
     "metadata": {},
     "output_type": "execute_result"
    }
   ],
   "source": [
    "one_card=container.select('.BasePropertyCard_propertyCardWrap__gtWK6')[0]\n",
    "len(one_card)"
   ]
  },
  {
   "cell_type": "code",
   "execution_count": 97,
   "id": "35adf2dd",
   "metadata": {},
   "outputs": [
    {
     "data": {
      "text/plain": [
       "' https://ap.rdcpix.com/dfac38a660566b532111894e46d7fea2l-m113211979rd-w960_h720.webp 2x'"
      ]
     },
     "execution_count": 97,
     "metadata": {},
     "output_type": "execute_result"
    }
   ],
   "source": [
    "one_card.source['srcset'].split(',')[1]\n"
   ]
  },
  {
   "cell_type": "code",
   "execution_count": 89,
   "id": "c3be95b9",
   "metadata": {},
   "outputs": [
    {
     "ename": "TypeError",
     "evalue": "'ResultSet' object is not callable",
     "output_type": "error",
     "traceback": [
      "\u001b[1;31m---------------------------------------------------------------------------\u001b[0m",
      "\u001b[1;31mTypeError\u001b[0m                                 Traceback (most recent call last)",
      "Cell \u001b[1;32mIn[89], line 1\u001b[0m\n\u001b[1;32m----> 1\u001b[0m img \u001b[38;5;241m=\u001b[39m \u001b[43mone_card\u001b[49m\u001b[43m(\u001b[49m\u001b[38;5;124;43m'\u001b[39;49m\u001b[38;5;124;43mpicture\u001b[39;49m\u001b[38;5;124;43m'\u001b[39;49m\u001b[43m,\u001b[49m\u001b[43mclass_\u001b[49m\u001b[38;5;241;43m=\u001b[39;49m\u001b[38;5;124;43m'\u001b[39;49m\u001b[38;5;124;43mLazyPicturestyles__StyledLazyPicture-rui__mf4y2d-0 hQUbss Picture_fade__7R3o1 Picture_topOnHover__8aAnc\u001b[39;49m\u001b[38;5;124;43m'\u001b[39;49m\u001b[43m)\u001b[49m\n",
      "\u001b[1;31mTypeError\u001b[0m: 'ResultSet' object is not callable"
     ]
    }
   ],
   "source": [
    "img = one_card('picture',class_='LazyPicturestyles__StyledLazyPicture-rui__mf4y2d-0 hQUbss Picture_fade__7R3o1 Picture_topOnHover__8aAnc')"
   ]
  },
  {
   "cell_type": "code",
   "execution_count": 92,
   "id": "e1456f7c",
   "metadata": {},
   "outputs": [],
   "source": [
    "img_src = img.source"
   ]
  },
  {
   "cell_type": "code",
   "execution_count": 93,
   "id": "b842e55a",
   "metadata": {},
   "outputs": [
    {
     "data": {
      "text/plain": [
       "<SoupStrainer name=[<TagNameMatchRule string=picture pattern=None function=None present=None>] attrs=defaultdict(<class 'list'>, {'class': [<AttributeValueMatchRule string=LazyPicturestyles__StyledLazyPicture-rui__mf4y2d-0 hQUbss Picture_fade__7R3o1 Picture_topOnHover__8aAnc pattern=None function=None present=None>]}) string=[]>"
      ]
     },
     "execution_count": 93,
     "metadata": {},
     "output_type": "execute_result"
    }
   ],
   "source": [
    "img_src"
   ]
  },
  {
   "cell_type": "code",
   "execution_count": 34,
   "id": "86ec84c3",
   "metadata": {},
   "outputs": [
    {
     "name": "stdout",
     "output_type": "stream",
     "text": [
      "{'alt': '', 'src': 'data:image/svg+xml;base64,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', 'decoding': 'async', 'data-nimg': 'fill', 'class': ['BasePropertyCard_fallBackImg__Eki_W'], 'style': 'position: absolute; inset: 0px; box-sizing: border-box; padding: 0px; border: none; margin: auto; display: block; width: 0px; height: 0px; min-width: 100%; max-width: 100%; min-height: 100%; max-height: 100%;'}\n"
     ]
    }
   ],
   "source": [
    "print(img.attrs)\n"
   ]
  },
  {
   "cell_type": "code",
   "execution_count": 36,
   "id": "8faa5938",
   "metadata": {},
   "outputs": [
    {
     "ename": "TimeoutException",
     "evalue": "Message: \nStacktrace:\n\tGetHandleVerifier [0x0xfa3b03+62899]\n\tGetHandleVerifier [0x0xfa3b44+62964]\n\t(No symbol) [0x0xdd10f3]\n\t(No symbol) [0x0xe1980e]\n\t(No symbol) [0x0xe19bab]\n\t(No symbol) [0x0xe625c2]\n\t(No symbol) [0x0xe3e554]\n\t(No symbol) [0x0xe5fd81]\n\t(No symbol) [0x0xe3e306]\n\t(No symbol) [0x0xe0d670]\n\t(No symbol) [0x0xe0e4e4]\n\tGetHandleVerifier [0x0x1204793+2556483]\n\tGetHandleVerifier [0x0x11ffd02+2537394]\n\tGetHandleVerifier [0x0xfca2fa+220586]\n\tGetHandleVerifier [0x0xfbaae8+157080]\n\tGetHandleVerifier [0x0xfc141d+184013]\n\tGetHandleVerifier [0x0xfaba68+95512]\n\tGetHandleVerifier [0x0xfabc10+95936]\n\tGetHandleVerifier [0x0xf96b5a+9738]\n\tBaseThreadInitThunk [0x0x772d5d49+25]\n\tRtlInitializeExceptionChain [0x0x774cd09b+107]\n\tRtlGetAppContainerNamedObjectPath [0x0x774cd021+561]\n",
     "output_type": "error",
     "traceback": [
      "\u001b[1;31m---------------------------------------------------------------------------\u001b[0m",
      "\u001b[1;31mTimeoutException\u001b[0m                          Traceback (most recent call last)",
      "Cell \u001b[1;32mIn[36], line 6\u001b[0m\n\u001b[0;32m      3\u001b[0m \u001b[38;5;28;01mfrom\u001b[39;00m\u001b[38;5;250m \u001b[39m\u001b[38;5;21;01mselenium\u001b[39;00m\u001b[38;5;21;01m.\u001b[39;00m\u001b[38;5;21;01mwebdriver\u001b[39;00m\u001b[38;5;21;01m.\u001b[39;00m\u001b[38;5;21;01msupport\u001b[39;00m\u001b[38;5;250m \u001b[39m\u001b[38;5;28;01mimport\u001b[39;00m expected_conditions \u001b[38;5;28;01mas\u001b[39;00m EC\n\u001b[0;32m      5\u001b[0m \u001b[38;5;66;03m# Wait for actual image elements to load (adjust the selector accordingly)\u001b[39;00m\n\u001b[1;32m----> 6\u001b[0m \u001b[43mWebDriverWait\u001b[49m\u001b[43m(\u001b[49m\u001b[43mdriver\u001b[49m\u001b[43m,\u001b[49m\u001b[43m \u001b[49m\u001b[38;5;241;43m10\u001b[39;49m\u001b[43m)\u001b[49m\u001b[38;5;241;43m.\u001b[39;49m\u001b[43muntil\u001b[49m\u001b[43m(\u001b[49m\n\u001b[0;32m      7\u001b[0m \u001b[43m    \u001b[49m\u001b[43mEC\u001b[49m\u001b[38;5;241;43m.\u001b[39;49m\u001b[43mpresence_of_element_located\u001b[49m\u001b[43m(\u001b[49m\u001b[43m(\u001b[49m\u001b[43mBy\u001b[49m\u001b[38;5;241;43m.\u001b[39;49m\u001b[43mCSS_SELECTOR\u001b[49m\u001b[43m,\u001b[49m\u001b[43m \u001b[49m\u001b[38;5;124;43m\"\u001b[39;49m\u001b[38;5;124;43mimg[class*=\u001b[39;49m\u001b[38;5;124;43m'\u001b[39;49m\u001b[38;5;124;43mproperty-image-class\u001b[39;49m\u001b[38;5;124;43m'\u001b[39;49m\u001b[38;5;124;43m]\u001b[39;49m\u001b[38;5;124;43m\"\u001b[39;49m\u001b[43m)\u001b[49m\u001b[43m)\u001b[49m\n\u001b[0;32m      8\u001b[0m \u001b[43m)\u001b[49m\n",
      "File \u001b[1;32me:\\web scrapper\\venv\\lib\\site-packages\\selenium\\webdriver\\support\\wait.py:138\u001b[0m, in \u001b[0;36mWebDriverWait.until\u001b[1;34m(self, method, message)\u001b[0m\n\u001b[0;32m    136\u001b[0m         \u001b[38;5;28;01mbreak\u001b[39;00m\n\u001b[0;32m    137\u001b[0m     time\u001b[38;5;241m.\u001b[39msleep(\u001b[38;5;28mself\u001b[39m\u001b[38;5;241m.\u001b[39m_poll)\n\u001b[1;32m--> 138\u001b[0m \u001b[38;5;28;01mraise\u001b[39;00m TimeoutException(message, screen, stacktrace)\n",
      "\u001b[1;31mTimeoutException\u001b[0m: Message: \nStacktrace:\n\tGetHandleVerifier [0x0xfa3b03+62899]\n\tGetHandleVerifier [0x0xfa3b44+62964]\n\t(No symbol) [0x0xdd10f3]\n\t(No symbol) [0x0xe1980e]\n\t(No symbol) [0x0xe19bab]\n\t(No symbol) [0x0xe625c2]\n\t(No symbol) [0x0xe3e554]\n\t(No symbol) [0x0xe5fd81]\n\t(No symbol) [0x0xe3e306]\n\t(No symbol) [0x0xe0d670]\n\t(No symbol) [0x0xe0e4e4]\n\tGetHandleVerifier [0x0x1204793+2556483]\n\tGetHandleVerifier [0x0x11ffd02+2537394]\n\tGetHandleVerifier [0x0xfca2fa+220586]\n\tGetHandleVerifier [0x0xfbaae8+157080]\n\tGetHandleVerifier [0x0xfc141d+184013]\n\tGetHandleVerifier [0x0xfaba68+95512]\n\tGetHandleVerifier [0x0xfabc10+95936]\n\tGetHandleVerifier [0x0xf96b5a+9738]\n\tBaseThreadInitThunk [0x0x772d5d49+25]\n\tRtlInitializeExceptionChain [0x0x774cd09b+107]\n\tRtlGetAppContainerNamedObjectPath [0x0x774cd021+561]\n"
     ]
    }
   ],
   "source": [
    "from selenium.webdriver.common.by import By\n",
    "from selenium.webdriver.support.ui import WebDriverWait\n",
    "from selenium.webdriver.support import expected_conditions as EC\n",
    "\n",
    "# Wait for actual image elements to load (adjust the selector accordingly)\n",
    "WebDriverWait(driver, 10).until(\n",
    "    EC.presence_of_element_located((By.CSS_SELECTOR, \"img[class*='property-image-class']\"))\n",
    ")\n"
   ]
  },
  {
   "cell_type": "code",
   "execution_count": 44,
   "id": "9a53e385",
   "metadata": {},
   "outputs": [],
   "source": [
    "img1=driver.find_element(By.CLASS_NAME,'card-image-wrapper')"
   ]
  },
  {
   "cell_type": "code",
   "execution_count": 51,
   "id": "88572746",
   "metadata": {},
   "outputs": [
    {
     "data": {
      "text/plain": [
       "<undetected_chromedriver.webelement.WebElement (session=\"980ce4808c84016ed3d6ec7839e5fe2e\", element=\"f.85350244D714B61E05484C5335EB50C7.d.900D7D8B1EF31460DBA1B439BF982842.e.18764\")>"
      ]
     },
     "execution_count": 51,
     "metadata": {},
     "output_type": "execute_result"
    }
   ],
   "source": [
    "img1"
   ]
  },
  {
   "cell_type": "code",
   "execution_count": null,
   "id": "eddc275d",
   "metadata": {},
   "outputs": [],
   "source": []
  }
 ],
 "metadata": {
  "kernelspec": {
   "display_name": "venv",
   "language": "python",
   "name": "python3"
  },
  "language_info": {
   "codemirror_mode": {
    "name": "ipython",
    "version": 3
   },
   "file_extension": ".py",
   "mimetype": "text/x-python",
   "name": "python",
   "nbconvert_exporter": "python",
   "pygments_lexer": "ipython3",
   "version": "3.10.0"
  }
 },
 "nbformat": 4,
 "nbformat_minor": 5
}
